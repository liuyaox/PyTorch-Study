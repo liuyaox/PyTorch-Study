{
 "cells": [
  {
   "cell_type": "markdown",
   "metadata": {},
   "source": [
    "# Deep Learning for NLP with PyTorch\n",
    "\n",
    "## Introduction to PyTorch\n",
    "\n",
    "省略\n",
    "\n",
    "## Deep Learning with PyTorch\n",
    "\n",
    "### Deep Learning Building Blocks: Affine maps, non-linearities and objectives\n",
    "\n",
    "Deep learning consists of composing linearities with non-linearities in clever ways. Non-linearities allows for powerful models.\n",
    "\n",
    "#### Affine Maps\n",
    "\n",
    "Affine map is a function *f(x)* where *f(x)=Ax+b* for a matrix A and vectors x, b.\n",
    "\n",
    "PyTorch and most other deep learning frameworks do things a little differently than traditional linear algebra. It **maps the rows of the input instead of the columns**. That is, the i'th row of the output below is the mapping of the i'th row of input under A, plus the bias term."
   ]
  },
  {
   "cell_type": "code",
   "execution_count": 1,
   "metadata": {},
   "outputs": [
    {
     "data": {
      "text/plain": [
       "<torch._C.Generator at 0x112849210>"
      ]
     },
     "execution_count": 1,
     "metadata": {},
     "output_type": "execute_result"
    }
   ],
   "source": [
    "import torch\n",
    "import torch.nn as nn\n",
    "import torch.nn.functional as F\n",
    "import torch.optim as optim\n",
    "torch.manual_seed(1)"
   ]
  },
  {
   "cell_type": "code",
   "execution_count": 2,
   "metadata": {},
   "outputs": [
    {
     "name": "stdout",
     "output_type": "stream",
     "text": [
      "tensor([[ 0.1755, -0.3268, -0.5069],\n",
      "        [-0.6602,  0.2260,  0.1089]], grad_fn=<AddmmBackward>)\n"
     ]
    }
   ],
   "source": [
    "lin = nn.Linear(5, 3)\n",
    "data = torch.randn(2, 5)\n",
    "print(lin(data))"
   ]
  },
  {
   "cell_type": "markdown",
   "metadata": {},
   "source": [
    "#### Non-Linearities\n",
    "\n",
    "We know that composing affine maps gives you an affine map. So if our model is a long chain of affine compositions, this adds no new power to your model than just doing a single affine map.\n",
    "\n",
    "If we introduce non-linearitiesin between the affine layers, we can build much more powerful models.\n",
    "\n",
    "There are a few core non-linearities: **tanh(x), sigmoid(x), ReLU(x)**, etc. They are the most common since they have gradients that are easy to compute, and computing gradients is essential for learning.\n",
    "\n",
    "In PyTorch, most non-linearities are in **torch.functional**, and they don't have parameters (weights) that need to be updated during training."
   ]
  },
  {
   "cell_type": "code",
   "execution_count": 3,
   "metadata": {},
   "outputs": [
    {
     "name": "stdout",
     "output_type": "stream",
     "text": [
      "tensor([[-0.5404, -2.2102],\n",
      "        [ 2.1130, -0.0040]])\n",
      "tensor([[0.0000, 0.0000],\n",
      "        [2.1130, 0.0000]])\n"
     ]
    }
   ],
   "source": [
    "data = torch.randn(2, 2)\n",
    "print(data)\n",
    "print(F.relu(data))"
   ]
  },
  {
   "cell_type": "markdown",
   "metadata": {},
   "source": [
    "#### Softmax and Probabilities\n",
    "\n",
    "The function Softmax(x) is also just a non-linearity, but it is special in that it usually is the last operation done in a network. This is because it takes in a vector of real numbers and returns a probability distribution."
   ]
  },
  {
   "cell_type": "markdown",
   "metadata": {},
   "source": [
    "> 刘尧：注意！！！log_softmax就是在softmax外进行个log操作，不过是同时进行的，而非分别进行。因为对于分类来说，一般使用对数似然激活函数，就一次性都计算了。\n",
    "\n",
    "> 注意！ PyTorch里提供了**torch.nn.CrossEntropyLoss(This criterion combines nn.LogSoftmax() and nn.NLLLoss() in one single class)**，其整合了上面的步骤。这和tf.nn.softmax_cross_entropy_with_logits的功能是一致的。\n",
    "\n",
    "> 必须明确一点：在PyTorch中若模型使用CrossEntropyLoss这个loss函数，则**不应该在最后一层再使用softmax进行激活**。CrossEntropyLoss() is the same as NLLLoss(), except it does the log softmax for you.\n",
    "\n",
    "> 而在Keras中，我们通常在最后一层使用softmax进行激活，保证输出神经元的值即分类的概率值，然后在compile中使用损失函数categorical_crossentropy，这符合常理。"
   ]
  },
  {
   "cell_type": "code",
   "execution_count": 4,
   "metadata": {},
   "outputs": [
    {
     "name": "stdout",
     "output_type": "stream",
     "text": [
      "tensor([ 1.3800, -1.3505,  0.3455,  0.5046,  1.8213])\n",
      "tensor([0.2948, 0.0192, 0.1048, 0.1228, 0.4584])\n",
      "tensor(1.)\n",
      "tensor([-1.2214, -3.9519, -2.2560, -2.0969, -0.7801])\n"
     ]
    }
   ],
   "source": [
    "data = torch.randn(5)\n",
    "print(data)\n",
    "print(F.softmax(data, dim=0))\n",
    "print(F.softmax(data, dim=0).sum())\n",
    "print(F.log_softmax(data, dim=0))"
   ]
  },
  {
   "cell_type": "markdown",
   "metadata": {},
   "source": [
    "#### Objective Functions\n",
    "\n",
    "省略\n",
    "\n",
    "### Optimization and Training\n",
    "\n",
    "省略\n",
    "\n",
    "### Creating Network Components in PyTorch\n",
    "\n",
    "#### Example: Logistic Regression Bag-of-Words classifier\n",
    "\n",
    "Our model will map a sparse BoW representation to log probabilities over labels. Say our entire vocab is two words \"hello\" and \"world\", with indices 0 and 1 respectively. In general, the BoW vector for sentence is **[Count(hello), Count(world)]**. \n",
    "\n",
    "Denote this BoW vector as x. The output of our network is **logSoftmax(Ax+b)**"
   ]
  },
  {
   "cell_type": "code",
   "execution_count": 5,
   "metadata": {},
   "outputs": [],
   "source": [
    "data = [('me gusta comer en la cafeteria'.split(), 'SPANISH'),\n",
    "        ('Give it to me'.split(), 'ENGLISH'),\n",
    "        ('No creo que sea una buena idea'.split(), 'SPANISH'),\n",
    "        ('No it is not a good idea to get lost at sea'.split(), 'ENGLISH')]\n",
    "test_data = [('Yo creo que si'.split(), 'SPANISH'),\n",
    "             ('it is lost on me'.split(), 'ENGLISH')]"
   ]
  },
  {
   "cell_type": "code",
   "execution_count": 6,
   "metadata": {},
   "outputs": [
    {
     "name": "stdout",
     "output_type": "stream",
     "text": [
      "{'me': 0, 'gusta': 1, 'comer': 2, 'en': 3, 'la': 4, 'cafeteria': 5, 'Give': 6, 'it': 7, 'to': 8, 'No': 9, 'creo': 10, 'que': 11, 'sea': 12, 'una': 13, 'buena': 14, 'idea': 15, 'is': 16, 'not': 17, 'a': 18, 'good': 19, 'get': 20, 'lost': 21, 'at': 22, 'Yo': 23, 'si': 24, 'on': 25}\n"
     ]
    }
   ],
   "source": [
    "word2index = {}\n",
    "for sent, _ in data + test_data:  # vocab来自于所有数据：训练数据和测试数据\n",
    "    for word in sent:\n",
    "        if word not in word2index:\n",
    "            word2index[word] = len(word2index)  # 巧妙！\n",
    "print(word2index)"
   ]
  },
  {
   "cell_type": "code",
   "execution_count": 7,
   "metadata": {},
   "outputs": [],
   "source": [
    "VOCAB_SIZE = len(word2index)\n",
    "NUM_LABEL = 2"
   ]
  },
  {
   "cell_type": "code",
   "execution_count": 8,
   "metadata": {},
   "outputs": [],
   "source": [
    "class BoWClassifier(nn.Module):\n",
    "    \n",
    "    def __init__(self, num_labels, vocab_size):\n",
    "        super(BoWClassifier, self).__init__()\n",
    "        self.linear = nn.Linear(vocab_size, num_labels)\n",
    "        # Note: the non-linearity log softmax does not have parameters! So we don't need to worry about them here\n",
    "        \n",
    "    def forward(self, bow_vec):\n",
    "        return F.log_softmax(self.linear(bow_vec), dim=1)"
   ]
  },
  {
   "cell_type": "code",
   "execution_count": 9,
   "metadata": {},
   "outputs": [],
   "source": [
    "def make_bow_vector(sentence, word2index):\n",
    "    vec = torch.zeros(len(word2index))\n",
    "    for word in sentence:\n",
    "        vec[word2index[word]] += 1\n",
    "    return vec.view(1, -1)"
   ]
  },
  {
   "cell_type": "code",
   "execution_count": 10,
   "metadata": {},
   "outputs": [],
   "source": [
    "label2index = {\"SPANISH\": 0, \"ENGLISH\": 1}\n",
    "def make_target(label, label2index):\n",
    "    return torch.LongTensor([label2index[label]])"
   ]
  },
  {
   "cell_type": "code",
   "execution_count": 11,
   "metadata": {},
   "outputs": [
    {
     "name": "stdout",
     "output_type": "stream",
     "text": [
      "Parameter containing:\n",
      "tensor([[ 0.1194,  0.0609, -0.1268,  0.1274,  0.1191,  0.1739, -0.1099, -0.0323,\n",
      "         -0.0038,  0.0286, -0.1488, -0.1392,  0.1067, -0.0460,  0.0958,  0.0112,\n",
      "          0.0644,  0.0431,  0.0713,  0.0972, -0.1816,  0.0987, -0.1379, -0.1480,\n",
      "          0.0119, -0.0334],\n",
      "        [ 0.1152, -0.1136, -0.1743,  0.1427, -0.0291,  0.1103,  0.0630, -0.1471,\n",
      "          0.0394,  0.0471, -0.1313, -0.0931,  0.0669,  0.0351, -0.0834, -0.0594,\n",
      "          0.1796, -0.0363,  0.1106,  0.0849, -0.1268, -0.1668,  0.1882,  0.0102,\n",
      "          0.1344,  0.0406]], requires_grad=True)\n",
      "Parameter containing:\n",
      "tensor([0.0631, 0.1465], requires_grad=True)\n"
     ]
    }
   ],
   "source": [
    "model = BoWClassifier(NUM_LABEL, VOCAB_SIZE)\n",
    "for param in model.parameters():\n",
    "    print(param)"
   ]
  },
  {
   "cell_type": "code",
   "execution_count": 12,
   "metadata": {},
   "outputs": [
    {
     "name": "stdout",
     "output_type": "stream",
     "text": [
      "tensor([[-0.5378, -0.8771]])\n"
     ]
    }
   ],
   "source": [
    "with torch.no_grad():\n",
    "    sample = data[0]\n",
    "    bow_vector = make_bow_vector(sample[0], word2index)\n",
    "    log_probs = model(bow_vector)\n",
    "    print(log_probs)"
   ]
  },
  {
   "cell_type": "code",
   "execution_count": 13,
   "metadata": {},
   "outputs": [],
   "source": [
    "loss_function = nn.NLLLoss()\n",
    "optimizer = optim.SGD(model.parameters(), lr=0.1)\n",
    "for epoch in range(100):\n",
    "    for instance, label in data:\n",
    "        # Step 1. Remember that PyTorch accumulates gradients. We need to clear them out before each instance.\n",
    "        model.zero_grad()\n",
    "        # Step 2.\n",
    "        bow_vec = make_bow_vector(instance, word2index)\n",
    "        target = make_target(label, label2index)\n",
    "        # Step 3. Run forward pass\n",
    "        log_probs = model(bow_vec)\n",
    "        # Step 4. Compute the loss, gradients, and update the parameters\n",
    "        loss = loss_function(log_probs, target)\n",
    "        loss.backward()\n",
    "        optimizer.step()"
   ]
  },
  {
   "cell_type": "code",
   "execution_count": 14,
   "metadata": {},
   "outputs": [
    {
     "name": "stdout",
     "output_type": "stream",
     "text": [
      "tensor([[-0.2093, -1.6669]])\n",
      "tensor([[-2.5330, -0.0828]])\n"
     ]
    }
   ],
   "source": [
    "with torch.no_grad():\n",
    "    for instance, label in test_data:\n",
    "        bow_vec = make_bow_vector(instance, word2index)\n",
    "        log_probs = model(bow_vec)\n",
    "        print(log_probs)"
   ]
  },
  {
   "cell_type": "markdown",
   "metadata": {},
   "source": [
    "## Word Embeddings: Encoding Lexical Semantics\n",
    "\n",
    "A fundamental linguistic assumption: words appearing in similar contexts are related to each other semantically. This is called the **distributional hypothesis**.\n",
    "\n",
    "### Getting Dense Word Embeddings\n",
    "\n",
    "Suppose we have seen the sentences in training data:\n",
    "\n",
    "* The mathematician ran to the store.*\n",
    "\n",
    "* The physicist ran to the store.*\n",
    "\n",
    "* The mathematician solved the open problem.*\n",
    "\n",
    "Now suppose we get a new sentence never seen before in training data:\n",
    "\n",
    "* The physicist solved the open problem.*\n",
    "\n",
    "How could we actually encode semantic similarity in words? Maybe we think up some semantic attributions. For example, in the sentences above, **we can give 'mathematician' and 'physicist' a high score for the 'is able to run' semantic attribute**. Think of some other attributes, and imagine what you might score some common words on those attributes.\n",
    "\n",
    "If each attribute is a dimension, then we might give each word a vector, like this:\n",
    "\n",
    "![](./image/word_embedding_attribute.png)\n",
    "\n",
    "The attributes are: **'can run', 'likes coffee', 'majored in Physics'**, ..., which are dimensions.\n",
    "\n",
    "A big pain: we could think of thousands of different semantic attributes that might be relevant to determining similarity.\n",
    "\n",
    "Idea of deep learning: the neural network learns representations of the features, rather than requiring the programmer to design the features.\n",
    "\n",
    "In this way, we will have some ***latent semantic attributes*** that the network can, in principle, learn. BTW, these attributes will probably not be interpretable.\n",
    "\n",
    "In summary, **word embeddings are a representation of the semantics of a word, efficiently encoding semantic information that might be relevant to the task at hand**. We can embed other things too: part of speech tags, parse trees, anything.\n",
    "\n",
    "### Word Embeddings in PyTorch\n",
    "\n",
    "**Similar to how we defined a unique index for each word when making one-hot vectors, we also need to define an index for each word when using embeddings**. These will be keys into a lookup table. In code below, the mapping from words to indices is a dictionary named *word_to_ix*.\n",
    "\n",
    "To index into this table, we must use ***torch.LongTensor***, since the indices are integers, not floats."
   ]
  },
  {
   "cell_type": "code",
   "execution_count": 1,
   "metadata": {},
   "outputs": [
    {
     "data": {
      "text/plain": [
       "<torch._C.Generator at 0x128689310>"
      ]
     },
     "execution_count": 1,
     "metadata": {},
     "output_type": "execute_result"
    }
   ],
   "source": [
    "import torch\n",
    "import torch.nn as nn\n",
    "import torch.nn.functional as F\n",
    "import torch.optim as optim\n",
    "torch.manual_seed(1)"
   ]
  },
  {
   "cell_type": "code",
   "execution_count": 2,
   "metadata": {},
   "outputs": [
    {
     "name": "stdout",
     "output_type": "stream",
     "text": [
      "tensor([[ 0.6614,  0.2669,  0.0617,  0.6213, -0.4519],\n",
      "        [-0.1661, -1.5228,  0.3817, -1.0276, -0.5631]],\n",
      "       grad_fn=<EmbeddingBackward>)\n"
     ]
    }
   ],
   "source": [
    "word_to_ix = {'hello': 0, 'world': 1}\n",
    "embeds = nn.Embedding(2, 5)   # V=2, D=5   初始化from标准正态分布\n",
    "lookup_tensor = torch.tensor([0, 1], dtype=torch.long)\n",
    "hello_embed = embeds(lookup_tensor)\n",
    "print(hello_embed)"
   ]
  },
  {
   "cell_type": "markdown",
   "metadata": {},
   "source": [
    "### An Example: N-Gram Language Modeling"
   ]
  },
  {
   "cell_type": "code",
   "execution_count": 3,
   "metadata": {},
   "outputs": [
    {
     "name": "stdout",
     "output_type": "stream",
     "text": [
      "[(['When', 'forty'], 'winters'), (['forty', 'winters'], 'shall'), (['winters', 'shall'], 'besiege')]\n"
     ]
    }
   ],
   "source": [
    "CONTEXT_SIZE = 2\n",
    "EMBEDDING_DIM = 10\n",
    "test_sentence = \"\"\"When forty winters shall besiege thy brow,\n",
    "And dig deep trenches in thy beauty's field,\n",
    "Thy youth's proud livery so gazed on now,\n",
    "Will be a totter'd weed of small worth held:\n",
    "Then being asked, where all thy beauty lies,\n",
    "Where all the treasure of thy lusty days;\n",
    "To say, within thine own deep sunken eyes,\n",
    "Were an all-eating shame, and thriftless praise.\n",
    "How much more praise deserv'd thy beauty's use,\n",
    "If thou couldst answer 'This fair child of mine\n",
    "Shall sum my count, and make my old excuse,'\n",
    "Proving his beauty by succession thine!\n",
    "This were to be new made when thou art old,\n",
    "And see thy blood warm when thou feel'st it cold.\"\"\".split()\n",
    "\n",
    "# Build a list of tuples: ([word_i-2, word_i-1], target word)   构造出这样的tuple，是trigram的精髓！\n",
    "trigrams = [([test_sentence[i], test_sentence[i + 1]], test_sentence[i + 2]) for i in range(len(test_sentence) - 2)]\n",
    "print(trigrams[:3])"
   ]
  },
  {
   "cell_type": "code",
   "execution_count": 4,
   "metadata": {},
   "outputs": [],
   "source": [
    "vocab = set(test_sentence)\n",
    "word_to_ix = {word: i for i, word in enumerate(vocab)}"
   ]
  },
  {
   "cell_type": "code",
   "execution_count": 5,
   "metadata": {},
   "outputs": [
    {
     "name": "stdout",
     "output_type": "stream",
     "text": [
      "{'mine': 0, 'treasure': 1, 'now,': 2, 'Were': 3, 'trenches': 4, 'When': 5, 'art': 6, 'be': 7, 'sum': 8, 'couldst': 9, 'held:': 10, \"beauty's\": 11, 'besiege': 12, 'were': 13, 'on': 14, 'blood': 15, 'to': 16, 'gazed': 17, 'Proving': 18, 'worth': 19, 'weed': 20, 'Where': 21, 'brow,': 22, 'own': 23, 'forty': 24, 'more': 25, \"excuse,'\": 26, \"'This\": 27, 'old,': 28, 'deep': 29, 'lusty': 30, 'thine': 31, 'of': 32, 'say,': 33, 'an': 34, 'old': 35, 'much': 36, 'his': 37, 'all-eating': 38, 'in': 39, 'and': 40, 'And': 41, 'How': 42, 'days;': 43, 'count,': 44, 'winters': 45, 'small': 46, 'my': 47, 'make': 48, 'fair': 49, 'Then': 50, 'thy': 51, 'all': 52, 'warm': 53, 'it': 54, 'when': 55, 'succession': 56, 'child': 57, 'beauty': 58, 'dig': 59, 'thriftless': 60, 'praise.': 61, 'so': 62, 'shame,': 63, 'thou': 64, 'Will': 65, 'where': 66, 'thine!': 67, 'Shall': 68, 'new': 69, 'shall': 70, 'eyes,': 71, 'use,': 72, 'livery': 73, 'To': 74, \"youth's\": 75, \"deserv'd\": 76, 'praise': 77, 'asked,': 78, 'being': 79, \"totter'd\": 80, 'lies,': 81, \"feel'st\": 82, 'answer': 83, 'the': 84, 'If': 85, 'within': 86, 'a': 87, 'field,': 88, 'proud': 89, 'see': 90, 'Thy': 91, 'sunken': 92, 'by': 93, 'made': 94, 'cold.': 95, 'This': 96}\n"
     ]
    }
   ],
   "source": [
    "print(word_to_ix)"
   ]
  },
  {
   "cell_type": "code",
   "execution_count": 6,
   "metadata": {},
   "outputs": [],
   "source": [
    "class NGramLanguageModeler(nn.Module):\n",
    "    \n",
    "    def __init__(self, vocab_size, embedding_dim, context_size):\n",
    "        super(NGramLanguageModeler, self).__init__()\n",
    "        self.embeddings = nn.Embedding(vocab_size, embedding_dim)\n",
    "        self.linear1 = nn.Linear(context_size * embedding_dim, 128)  # context_size个word的embedding拼接在一起\n",
    "        self.linear2 = nn.Linear(128, vocab_size)  # 为什么是vocab_size? 因为对于Language Model来说，每次都要输出所有word的概率！\n",
    "        \n",
    "    # Structure: Inputs -> Embedding -> Reshape(view) -> Linear -> ReLU -> Linear -> LogSoftmax(Softmax->Log): 输出的不是probability，而是取了对数(以方便计算对数似然Loss)\n",
    "    def forward(self, inputs):\n",
    "        embeds = self.embeddings(inputs).view((1, -1))  # 所有(context_size个)embedding经reshape(view)后拼接在一起\n",
    "        out = F.relu(self.linear1(embeds))\n",
    "        out = self.linear2(out)\n",
    "        log_probs = F.log_softmax(out, dim=1)\n",
    "        return log_probs"
   ]
  },
  {
   "cell_type": "code",
   "execution_count": 8,
   "metadata": {},
   "outputs": [],
   "source": [
    "losses = []\n",
    "loss_function = nn.NLLLoss()  # Negative Log Likelyhood Loss，一般用于最后一层是LogSoftmax的Network的输出与Label/Target之间计算Loss\n",
    "model = NGramLanguageModeler(len(vocab), EMBEDDING_DIM, CONTEXT_SIZE)\n",
    "optimizer = optim.SGD(model.parameters(), lr=0.001)   # PyTorch中，optimizer在此处与model建立联系！optimizer与model解耦！(Keras中通过model.compile(optimizer=xxx,...))"
   ]
  },
  {
   "cell_type": "code",
   "execution_count": 10,
   "metadata": {},
   "outputs": [
    {
     "name": "stdout",
     "output_type": "stream",
     "text": [
      "Epoch:  0\tLoss:  498.0866\n",
      "Epoch:  1\tLoss:  495.7089\n",
      "Epoch:  2\tLoss:  493.3401\n",
      "Epoch:  3\tLoss:  490.9778\n",
      "Epoch:  4\tLoss:  488.6210\n",
      "Epoch:  5\tLoss:  486.2679\n",
      "Epoch:  6\tLoss:  483.9204\n",
      "Epoch:  7\tLoss:  481.5777\n",
      "Epoch:  8\tLoss:  479.2389\n",
      "Epoch:  9\tLoss:  476.9040\n"
     ]
    }
   ],
   "source": [
    "for epoch in range(10):\n",
    "    total_loss = 0\n",
    "    for context, target in trigrams:\n",
    "        # Step1: Original Words -> Words Indices -> Tensor Inputs/Target\n",
    "        context_idxs = torch.tensor([word_to_ix[word] for word in context], dtype=torch.long)\n",
    "        target_idx = torch.tensor([word_to_ix[target]], dtype=torch.long)\n",
    "        \n",
    "        # Step2: Recall that torch *accumulates* gradients, so before a new instance, we need to zero out the gradients from old instance\n",
    "        model.zero_grad()\n",
    "        \n",
    "        # Step3: Forward Pass, getting log probabilities over next words\n",
    "        log_probs = model(context_idxs)\n",
    "        \n",
    "        # Step4: Compute Loss\n",
    "        # 看似是log(probabilities)与target indices之间计算Loss，有些怪怪的，但实际上target indices本质上表示的就是probabilities\n",
    "        # nn.NLLLoss就是用于此种场景，且target indices不需要是one-hot形式，NLLLoss内部会自动处理好\n",
    "        loss = loss_function(log_probs, target_idx)\n",
    "        \n",
    "        # Step5: Backward Pass and update gradients\n",
    "        loss.backward()\n",
    "        optimizer.step()\n",
    "        \n",
    "        # Step6: Get loss of this instance, then sum\n",
    "        total_loss += loss.item()\n",
    "        \n",
    "    losses.append(total_loss)\n",
    "    print(f'Epoch: {epoch: 2d}\\tLoss: {total_loss: .4f}')"
   ]
  },
  {
   "cell_type": "code",
   "execution_count": 26,
   "metadata": {},
   "outputs": [
    {
     "name": "stdout",
     "output_type": "stream",
     "text": [
      "tensor([[-4.1285, -4.8924, -4.5670, -4.4169, -4.3237, -4.9840, -5.1074, -3.9780,\n",
      "         -4.5509, -4.5927, -4.5508, -4.6368, -4.5543, -4.2217, -4.4133, -4.4977,\n",
      "         -4.3662, -4.9869, -4.3270, -4.6744, -4.6586, -4.3654, -4.6573, -4.5618,\n",
      "         -4.7001, -4.8383, -4.8571, -4.4534, -4.3775, -4.4940, -4.7256, -4.6027,\n",
      "         -4.4307, -4.9522, -4.7060, -4.8519, -4.2616, -5.1266, -4.6863, -4.4071,\n",
      "         -4.7274, -4.4504, -4.9084, -4.5227, -4.3537, -4.3968, -4.6996, -4.7482,\n",
      "         -4.4920, -4.6869, -4.9353, -3.8121, -4.6192, -4.5857, -4.4281, -4.6062,\n",
      "         -4.9471, -4.7977, -4.4791, -4.2306, -4.7345, -4.4488, -4.5005, -4.7399,\n",
      "         -4.2529, -4.8868, -4.7573, -4.9295, -4.4227, -4.3233, -4.0720, -4.4927,\n",
      "         -4.6067, -4.7999, -4.8972, -4.6717, -4.7526, -4.9750, -5.0851, -4.6859,\n",
      "         -5.1751, -4.7061, -4.5185, -4.5514, -4.5556, -4.8913, -4.7191, -4.4529,\n",
      "         -4.6498, -4.5292, -4.0338, -4.7052, -4.8735, -4.4604, -4.7468, -4.9042,\n",
      "         -4.6064]], grad_fn=<LogSoftmaxBackward>)\n",
      "tensor([[0.0161, 0.0075, 0.0104, 0.0121, 0.0133, 0.0068, 0.0061, 0.0187, 0.0106,\n",
      "         0.0101, 0.0106, 0.0097, 0.0105, 0.0147, 0.0121, 0.0111, 0.0127, 0.0068,\n",
      "         0.0132, 0.0093, 0.0095, 0.0127, 0.0095, 0.0104, 0.0091, 0.0079, 0.0078,\n",
      "         0.0116, 0.0126, 0.0112, 0.0089, 0.0100, 0.0119, 0.0071, 0.0090, 0.0078,\n",
      "         0.0141, 0.0059, 0.0092, 0.0122, 0.0088, 0.0117, 0.0074, 0.0109, 0.0129,\n",
      "         0.0123, 0.0091, 0.0087, 0.0112, 0.0092, 0.0072, 0.0221, 0.0099, 0.0102,\n",
      "         0.0119, 0.0100, 0.0071, 0.0082, 0.0113, 0.0145, 0.0088, 0.0117, 0.0111,\n",
      "         0.0087, 0.0142, 0.0075, 0.0086, 0.0072, 0.0120, 0.0133, 0.0170, 0.0112,\n",
      "         0.0100, 0.0082, 0.0075, 0.0094, 0.0086, 0.0069, 0.0062, 0.0092, 0.0057,\n",
      "         0.0090, 0.0109, 0.0106, 0.0105, 0.0075, 0.0089, 0.0116, 0.0096, 0.0108,\n",
      "         0.0177, 0.0090, 0.0076, 0.0116, 0.0087, 0.0074, 0.0100]],\n",
      "       grad_fn=<ExpBackward>)\n",
      "[51, 7, 90, 70, 0, 13, 59, 64, 36, 69, 4, 18, 44, 21, 16, 28, 45, 39, 14, 3, 68, 54, 32, 61, 41, 87, 27, 93, 58, 48, 71, 29, 15, 62, 82, 43, 89, 10, 8, 83, 12, 84, 23, 2, 53, 9, 31, 55, 96, 72, 52, 11, 88, 22, 20, 75, 19, 79, 38, 49, 46, 24, 91, 34, 81, 86, 30, 40, 60, 63, 94, 47, 76, 66, 57, 73, 25, 35, 26, 92, 65, 85, 1, 74, 95, 42, 67, 50, 56, 33, 77, 5, 17, 78, 6, 37, 80]\n",
      "tensor([70])\n"
     ]
    }
   ],
   "source": [
    "context, target = ['forty', 'winters'], 'shall'\n",
    "context_idxs = torch.tensor([word_to_ix[word] for word in context], dtype=torch.long)\n",
    "target_idx = torch.tensor([word_to_ix[target]], dtype=torch.long)\n",
    "log_probs = model(context_idxs)\n",
    "probs = torch.exp(log_probs)    # vocab中各个word的概率\n",
    "idxs_pred = [x.item() for x in probs.argsort(descending=True)[0]]  # 概率从大到小的各个word(的index)\n",
    "print(log_probs)\n",
    "print(probs)\n",
    "print(idxs_pred)\n",
    "print(target_idx)"
   ]
  },
  {
   "cell_type": "code",
   "execution_count": null,
   "metadata": {},
   "outputs": [],
   "source": []
  }
 ],
 "metadata": {
  "kernelspec": {
   "display_name": "Python 3",
   "language": "python",
   "name": "python3"
  },
  "language_info": {
   "codemirror_mode": {
    "name": "ipython",
    "version": 3
   },
   "file_extension": ".py",
   "mimetype": "text/x-python",
   "name": "python",
   "nbconvert_exporter": "python",
   "pygments_lexer": "ipython3",
   "version": "3.6.5"
  }
 },
 "nbformat": 4,
 "nbformat_minor": 2
}

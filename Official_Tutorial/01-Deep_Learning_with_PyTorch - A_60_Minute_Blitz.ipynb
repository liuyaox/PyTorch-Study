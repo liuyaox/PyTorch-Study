{
 "cells": [
  {
   "cell_type": "markdown",
   "metadata": {},
   "source": [
    "# 1. What is PyTorch"
   ]
  },
  {
   "cell_type": "code",
   "execution_count": 1,
   "metadata": {},
   "outputs": [],
   "source": [
    "from __future__ import print_function\n",
    "import torch"
   ]
  },
  {
   "cell_type": "markdown",
   "metadata": {},
   "source": [
    "## 1.1 Basic Operations of Torch Tensor\n",
    "\n",
    "- torch.empty\n",
    "\n",
    "- torch.rand & torch.rand_like\n",
    "\n",
    "- torch.zeros\n",
    "\n",
    "- torch.tensor\n",
    "\n",
    "- torch.ones & tensor.new_ones\n",
    "\n",
    "- tensor.size & tensor.view\n",
    "    \n",
    "- tensor.add & tensor.add_\n",
    "\n",
    "- tensor[:2] & tensor[:, 2]\n",
    "\n",
    "- tensor.item & tensor.tolist"
   ]
  },
  {
   "cell_type": "code",
   "execution_count": 40,
   "metadata": {},
   "outputs": [
    {
     "name": "stdout",
     "output_type": "stream",
     "text": [
      "tensor([[0.0000e+00, 3.6893e+19, 0.0000e+00],\n",
      "        [3.6893e+19, 5.6052e-45, 0.0000e+00],\n",
      "        [0.0000e+00, 0.0000e+00, 0.0000e+00],\n",
      "        [0.0000e+00, 0.0000e+00, 0.0000e+00],\n",
      "        [0.0000e+00, 3.6893e+19, 6.3906e-08]])\n"
     ]
    }
   ],
   "source": [
    "print(torch.empty(5, 3))  # 数字是0、无穷大或无穷小，也有一般值"
   ]
  },
  {
   "cell_type": "code",
   "execution_count": 41,
   "metadata": {},
   "outputs": [
    {
     "name": "stdout",
     "output_type": "stream",
     "text": [
      "tensor([[0.7725, 0.2715, 0.8958],\n",
      "        [0.6532, 0.1087, 0.6823],\n",
      "        [0.6785, 0.1455, 0.8845],\n",
      "        [0.0747, 0.5234, 0.7176],\n",
      "        [0.3726, 0.8948, 0.9992]])\n"
     ]
    }
   ],
   "source": [
    "print(torch.rand(5, 3))"
   ]
  },
  {
   "cell_type": "code",
   "execution_count": 42,
   "metadata": {},
   "outputs": [
    {
     "name": "stdout",
     "output_type": "stream",
     "text": [
      "tensor([[0, 0, 0],\n",
      "        [0, 0, 0],\n",
      "        [0, 0, 0],\n",
      "        [0, 0, 0],\n",
      "        [0, 0, 0]])\n"
     ]
    }
   ],
   "source": [
    "print(torch.zeros(5, 3, dtype=torch.long))"
   ]
  },
  {
   "cell_type": "code",
   "execution_count": 43,
   "metadata": {},
   "outputs": [
    {
     "name": "stdout",
     "output_type": "stream",
     "text": [
      "tensor([[5.5000, 3.0000],\n",
      "        [4.8000, 8.1000]])\n"
     ]
    }
   ],
   "source": [
    "x = torch.tensor([[5.5, 3], [4.8, 8.1]])\n",
    "print(x)"
   ]
  },
  {
   "cell_type": "code",
   "execution_count": 13,
   "metadata": {},
   "outputs": [
    {
     "name": "stdout",
     "output_type": "stream",
     "text": [
      "tensor([[-1.4449, -1.7807,  0.5049],\n",
      "        [ 1.7135,  0.9671, -1.1484],\n",
      "        [-0.5042, -0.0579, -0.4078],\n",
      "        [-0.0944,  0.1655,  0.2645],\n",
      "        [-2.1989,  0.2521,  0.7114]])\n",
      "torch.Size([5, 3])\n"
     ]
    }
   ],
   "source": [
    "x = torch.randn_like(x, dtype=torch.float)\n",
    "print(x)\n",
    "print(x.size())  # torch.Size is in fact a tuple, so it supports all tuple operations"
   ]
  },
  {
   "cell_type": "code",
   "execution_count": 44,
   "metadata": {},
   "outputs": [
    {
     "name": "stdout",
     "output_type": "stream",
     "text": [
      "tensor([[1., 1., 1.],\n",
      "        [1., 1., 1.],\n",
      "        [1., 1., 1.],\n",
      "        [1., 1., 1.],\n",
      "        [1., 1., 1.]], dtype=torch.float64)\n"
     ]
    }
   ],
   "source": [
    "print(x.new_ones(5, 3, dtype=torch.double))"
   ]
  },
  {
   "cell_type": "code",
   "execution_count": 23,
   "metadata": {},
   "outputs": [
    {
     "name": "stdout",
     "output_type": "stream",
     "text": [
      "tensor([[-0.9307, -1.2709,  1.0478],\n",
      "        [ 2.2759,  1.5239, -0.7382],\n",
      "        [ 0.2152,  0.5509,  0.1529],\n",
      "        [ 0.7290,  0.3528,  0.7645],\n",
      "        [-2.0706,  0.6540,  1.1559]])\n",
      "tensor([[-0.9307, -1.2709,  1.0478],\n",
      "        [ 2.2759,  1.5239, -0.7382],\n",
      "        [ 0.2152,  0.5509,  0.1529],\n",
      "        [ 0.7290,  0.3528,  0.7645],\n",
      "        [-2.0706,  0.6540,  1.1559]])\n",
      "tensor([[-0.9307, -1.2709,  1.0478],\n",
      "        [ 2.2759,  1.5239, -0.7382],\n",
      "        [ 0.2152,  0.5509,  0.1529],\n",
      "        [ 0.7290,  0.3528,  0.7645],\n",
      "        [-2.0706,  0.6540,  1.1559]])\n",
      "tensor([[-0.9307, -1.2709,  1.0478],\n",
      "        [ 2.2759,  1.5239, -0.7382],\n",
      "        [ 0.2152,  0.5509,  0.1529],\n",
      "        [ 0.7290,  0.3528,  0.7645],\n",
      "        [-2.0706,  0.6540,  1.1559]])\n",
      "tensor([[-0.9307, -1.2709,  1.0478],\n",
      "        [ 2.2759,  1.5239, -0.7382],\n",
      "        [ 0.2152,  0.5509,  0.1529],\n",
      "        [ 0.7290,  0.3528,  0.7645],\n",
      "        [-2.0706,  0.6540,  1.1559]])\n",
      "tensor([[-0.9307, -1.2709,  1.0478],\n",
      "        [ 2.2759,  1.5239, -0.7382]])\n",
      "tensor([-1.2709,  1.5239,  0.5509,  0.3528,  0.6540])\n"
     ]
    }
   ],
   "source": [
    "y = torch.rand(5, 3)\n",
    "print(x + y)\n",
    "print(torch.add(x, y))  # Same with +\n",
    "print(y.add(x))\n",
    "\n",
    "result = torch.empty(5, 3)\n",
    "torch.add(x, y, out=result)\n",
    "print(result)\n",
    "\n",
    "# Any operation that mutates a tensor in-place is post-fixed with an _. For example: x.copy_(y), x.t_(), will change x.\n",
    "y.add_(x)  # Inplace Addition   \n",
    "print(y)\n",
    "\n",
    "# Use standard NumPy-like indexing with all bells and whistles!\n",
    "print(y[:2])   # 前2个vector\n",
    "print(y[:, 1]) # 第1列"
   ]
  },
  {
   "cell_type": "code",
   "execution_count": 27,
   "metadata": {},
   "outputs": [
    {
     "name": "stdout",
     "output_type": "stream",
     "text": [
      "tensor([0.8293, 0.5293, 0.6516, 0.2408, 0.2705, 0.9424, 0.7717, 0.2853, 0.9992,\n",
      "        0.2992, 0.0179, 0.5161])\n",
      "tensor([[0.7520, 0.8426, 0.7543, 0.1428, 0.0101, 0.8947],\n",
      "        [0.0070, 0.4272, 0.4334, 0.6758, 0.7053, 0.6084]])\n",
      "tensor([[0.7501, 0.3438, 0.0324, 0.7472, 0.7930, 0.7767],\n",
      "        [0.2618, 0.2395, 0.3214, 0.9655, 0.7449, 0.9825]])\n"
     ]
    }
   ],
   "source": [
    "# Resize shape: tensor.view\n",
    "print(torch.rand(4, 3).view(12))\n",
    "print(torch.rand(4, 3).view(2, 6))\n",
    "print(torch.rand(4, 3).view(-1, 6))  # the size -1 is inferred from other dimensions"
   ]
  },
  {
   "cell_type": "code",
   "execution_count": 30,
   "metadata": {},
   "outputs": [
    {
     "name": "stdout",
     "output_type": "stream",
     "text": [
      "-0.12467533349990845\n"
     ]
    }
   ],
   "source": [
    "print(torch.randn(1).item())  # Get a Python number from a tensor containing a single value"
   ]
  },
  {
   "cell_type": "code",
   "execution_count": 67,
   "metadata": {},
   "outputs": [
    {
     "name": "stdout",
     "output_type": "stream",
     "text": [
      "[[0.9341114163398743, -0.3458023965358734, -0.2878834903240204], [-2.503565549850464, -0.7918197512626648, -1.3584527969360352]]\n"
     ]
    }
   ],
   "source": [
    "print(torch.randn(2, 3).tolist()) # Get a Python list from a tensor containing many values"
   ]
  },
  {
   "cell_type": "markdown",
   "metadata": {},
   "source": [
    "## 1.2 Torch Tensor < -- > NumPy Array\n",
    "\n",
    "They will share their underlying memory locations, and **changing one will change the other**.\n",
    "\n",
    "- tensor.numpy() --> numpy array\n",
    "\n",
    "- torch.from_numpy(numpy array) --> torch tensor"
   ]
  },
  {
   "cell_type": "code",
   "execution_count": 37,
   "metadata": {},
   "outputs": [
    {
     "data": {
      "text/plain": [
       "array([[1., 1., 1., 1.],\n",
       "       [1., 1., 1., 1.],\n",
       "       [1., 1., 1., 1.]], dtype=float32)"
      ]
     },
     "execution_count": 37,
     "metadata": {},
     "output_type": "execute_result"
    }
   ],
   "source": [
    "a = torch.ones(3, 4)\n",
    "b = a.numpy()\n",
    "b"
   ]
  },
  {
   "cell_type": "code",
   "execution_count": 38,
   "metadata": {},
   "outputs": [
    {
     "name": "stdout",
     "output_type": "stream",
     "text": [
      "tensor([[2., 2., 2., 2.],\n",
      "        [2., 2., 2., 2.],\n",
      "        [2., 2., 2., 2.]])\n"
     ]
    },
    {
     "data": {
      "text/plain": [
       "array([[2., 2., 2., 2.],\n",
       "       [2., 2., 2., 2.],\n",
       "       [2., 2., 2., 2.]], dtype=float32)"
      ]
     },
     "execution_count": 38,
     "metadata": {},
     "output_type": "execute_result"
    }
   ],
   "source": [
    "a.add_(1)\n",
    "print(a)\n",
    "b"
   ]
  },
  {
   "cell_type": "code",
   "execution_count": 39,
   "metadata": {},
   "outputs": [
    {
     "name": "stdout",
     "output_type": "stream",
     "text": [
      "[2. 2. 2. 2. 2.]\n",
      "tensor([2., 2., 2., 2., 2.], dtype=torch.float64)\n"
     ]
    }
   ],
   "source": [
    "import numpy as np\n",
    "a = np.ones(5)\n",
    "b = torch.from_numpy(a)\n",
    "np.add(a, 1, out=a)\n",
    "print(a)\n",
    "print(b)"
   ]
  },
  {
   "cell_type": "markdown",
   "metadata": {},
   "source": [
    "# 2. Autograd: Automatic Differentiation\n",
    "\n",
    "Central to all neural networks in PyTorch is the ***autograd*** package. It provides automatic differentiation for all operations on Tensors. It's a define-by-run framework, which means that your backprop is defined by how your code is run, and that every single iteration can be different.\n",
    "\n",
    "## 2.1 Tensor\n",
    "\n",
    "***torch.Tensor*** is the central class of the package. If you set its attribute ***.requires_grad*** as True, it starts to track all operations on it. When you finish your computation you can call ***.backward()*** and have all the gradients computed automatically. The gradient for this tensor will be accumulated into ***.grad*** attribute."
   ]
  },
  {
   "cell_type": "code",
   "execution_count": 45,
   "metadata": {},
   "outputs": [],
   "source": [
    "import torch"
   ]
  },
  {
   "cell_type": "code",
   "execution_count": 46,
   "metadata": {},
   "outputs": [
    {
     "name": "stdout",
     "output_type": "stream",
     "text": [
      "tensor([[1., 1.],\n",
      "        [1., 1.]], requires_grad=True)\n"
     ]
    }
   ],
   "source": [
    "x = torch.ones(2, 2, requires_grad=True)  # Defaults to False  x.requires_grad_(False) will change to False in-place\n",
    "print(x)"
   ]
  },
  {
   "cell_type": "code",
   "execution_count": 48,
   "metadata": {},
   "outputs": [
    {
     "name": "stdout",
     "output_type": "stream",
     "text": [
      "tensor([[3., 3.],\n",
      "        [3., 3.]], grad_fn=<AddBackward0>)\n",
      "<AddBackward0 object at 0x122257978>\n"
     ]
    }
   ],
   "source": [
    "y = x + 2\n",
    "print(y)\n",
    "print(y.grad_fn)  # y was created as a result of an operation, so it has a grad_fn."
   ]
  },
  {
   "cell_type": "code",
   "execution_count": 50,
   "metadata": {},
   "outputs": [
    {
     "name": "stdout",
     "output_type": "stream",
     "text": [
      "tensor([[27., 27.],\n",
      "        [27., 27.]], grad_fn=<MulBackward0>)\n",
      "tensor(27., grad_fn=<MeanBackward1>)\n"
     ]
    }
   ],
   "source": [
    "z = y * y * 3\n",
    "out = z.mean()\n",
    "print(z)\n",
    "print(out)"
   ]
  },
  {
   "cell_type": "markdown",
   "metadata": {},
   "source": [
    "## 2.2 Gradients\n",
    "\n",
    "Generally speaking, ***torch.autograd*** is an engine for computing vector-Jacobian product"
   ]
  },
  {
   "cell_type": "code",
   "execution_count": 51,
   "metadata": {},
   "outputs": [],
   "source": [
    "out.backward()"
   ]
  },
  {
   "cell_type": "code",
   "execution_count": 53,
   "metadata": {},
   "outputs": [
    {
     "name": "stdout",
     "output_type": "stream",
     "text": [
      "tensor([[4.5000, 4.5000],\n",
      "        [4.5000, 4.5000]])\n"
     ]
    }
   ],
   "source": [
    "print(x.grad) # d(out)/dx "
   ]
  },
  {
   "cell_type": "markdown",
   "metadata": {},
   "source": [
    "# 3. Neural Networks\n",
    "\n",
    "Neural networks can be constructed using the ***torch.nn*** package.\n",
    "\n",
    "***nn*** depends on ***autograd*** to define models and differentiate them. An ***nn.Module*** contains layers, and a method ***forward(input)*** that returns the output.\n",
    "\n",
    "A typical training procedure for a neural network is as follows:\n",
    "\n",
    "- Define the neural network that has some learnable parameters (or weights)\n",
    "\n",
    "- Iterate over a dataset of inputs\n",
    "\n",
    "- Process input through the network\n",
    "\n",
    "- Compute the loss (how far is the output from being correct)\n",
    "\n",
    "- Propagate gradients back into the network’s parameters\n",
    "\n",
    "- Update the weights of the network, typically using a simple update rule: ***weight = weight - learning_rate * gradient***\n",
    "\n",
    "## 3.1 Define the Network"
   ]
  },
  {
   "cell_type": "code",
   "execution_count": 1,
   "metadata": {},
   "outputs": [],
   "source": [
    "import numpy as np\n",
    "import torch\n",
    "import torch.nn as nn\n",
    "import torch.nn.functional as F"
   ]
  },
  {
   "cell_type": "markdown",
   "metadata": {},
   "source": [
    "We just have to define the ***\\_\\_init\\_\\_*** and the ***forward*** function, and the ***backward*** function (where gradients are computed) is automatically defined for you using ***autograd***"
   ]
  },
  {
   "cell_type": "code",
   "execution_count": 37,
   "metadata": {},
   "outputs": [],
   "source": [
    "class Net(nn.Module):  # nn.Module: Base class for all neural network modules. Your models should also subclass this class.\n",
    "    def __init__(self):\n",
    "        super(Net, self).__init__()\n",
    "        self.conv1 = nn.Conv2d(in_channels=1, out_channels=6, kernel_size=5, stride=1, padding=0)  # 为什么输入需要是32*32 ？\n",
    "        self.conv2 = nn.Conv2d(6, 16, 5)\n",
    "        self.fc1 = nn.Linear(in_features=16 * 5 * 5, out_features=120)  # An affine operation: y = Wx + b\n",
    "        self.fc2 = nn.Linear(120, 84)\n",
    "        self.fc3 = nn.Linear(84, 10)\n",
    "    \n",
    "    # Conv2d和Linear属于Layer范畴，来自于nn，定义在__init__里，而max_pool2d和relu属于functional范畴，来自于F=nn.functional，定义在forward里！\n",
    "    # Structure: input-->conv1-->relu-->max_pool2d-->conv2-->relu-->max_pool2d-->view-->fc1-->relu-->fc2-->relu-->fc3\n",
    "    def forward(self, x):\n",
    "        x = F.max_pool2d(F.relu(self.conv1(x)), (2, 2))   # Max Pooling over a (2, 2) window\n",
    "        x = F.max_pool2d(F.relu(self.conv2(x)), 2)        # If the size is a square, you can only specify a single number\n",
    "        x = x.view(-1, np.prod(x.size()[1:]))             # batch dimension之外的dimension相乘\n",
    "        x = F.relu(self.fc1(x))\n",
    "        x = F.relu(self.fc2(x))\n",
    "        x = self.fc3(x)\n",
    "        return x"
   ]
  },
  {
   "cell_type": "code",
   "execution_count": 38,
   "metadata": {},
   "outputs": [
    {
     "name": "stdout",
     "output_type": "stream",
     "text": [
      "Net(\n",
      "  (conv1): Conv2d(1, 6, kernel_size=(5, 5), stride=(1, 1))\n",
      "  (conv2): Conv2d(6, 16, kernel_size=(5, 5), stride=(1, 1))\n",
      "  (fc1): Linear(in_features=400, out_features=120, bias=True)\n",
      "  (fc2): Linear(in_features=120, out_features=84, bias=True)\n",
      "  (fc3): Linear(in_features=84, out_features=10, bias=True)\n",
      ")\n"
     ]
    }
   ],
   "source": [
    "net = Net()\n",
    "print(net)"
   ]
  },
  {
   "cell_type": "code",
   "execution_count": 39,
   "metadata": {},
   "outputs": [
    {
     "data": {
      "text/plain": [
       "Parameter containing:\n",
       "tensor([[[[ 0.0096, -0.0146,  0.1165,  0.1517,  0.1280],\n",
       "          [-0.0387, -0.1381, -0.1021, -0.0893,  0.1611],\n",
       "          [-0.1267,  0.0353,  0.1368, -0.1255,  0.1639],\n",
       "          [ 0.0874, -0.0690, -0.1079,  0.1732, -0.0358],\n",
       "          [-0.1358,  0.0208,  0.1711,  0.1663, -0.1493]]],\n",
       "\n",
       "\n",
       "        [[[-0.1793,  0.0615,  0.0538, -0.1476,  0.0203],\n",
       "          [ 0.0992,  0.1008,  0.1627, -0.0625, -0.1988],\n",
       "          [ 0.1879, -0.1236, -0.1700, -0.0055,  0.0679],\n",
       "          [-0.1129, -0.1276,  0.0227, -0.0375,  0.1788],\n",
       "          [ 0.1206, -0.0703, -0.1270, -0.0672, -0.0485]]],\n",
       "\n",
       "\n",
       "        [[[ 0.1248,  0.0423,  0.1732,  0.0402, -0.0659],\n",
       "          [-0.1116,  0.0453,  0.0711,  0.1744, -0.0561],\n",
       "          [ 0.0306, -0.0745,  0.0090, -0.0544,  0.1572],\n",
       "          [-0.1756, -0.1798, -0.0988,  0.1113, -0.1086],\n",
       "          [-0.1931,  0.0937, -0.1316,  0.0583, -0.0173]]],\n",
       "\n",
       "\n",
       "        [[[-0.0929, -0.1267,  0.0503,  0.0175,  0.1571],\n",
       "          [ 0.0360, -0.0737,  0.1474, -0.1901,  0.0339],\n",
       "          [ 0.1157,  0.1043,  0.1153,  0.0789,  0.1536],\n",
       "          [-0.0443,  0.1551, -0.0928, -0.1692, -0.1145],\n",
       "          [-0.0602,  0.1319,  0.1354,  0.1954,  0.1976]]],\n",
       "\n",
       "\n",
       "        [[[ 0.0590,  0.1275, -0.0317, -0.0723, -0.1197],\n",
       "          [-0.0434, -0.0190, -0.1204,  0.0958,  0.0584],\n",
       "          [-0.0280, -0.0725,  0.1066,  0.0999,  0.1252],\n",
       "          [ 0.1219, -0.1818, -0.0244, -0.0916,  0.0664],\n",
       "          [ 0.1877, -0.1215,  0.0192,  0.1504,  0.1419]]],\n",
       "\n",
       "\n",
       "        [[[ 0.1578, -0.1095,  0.1229,  0.0533,  0.0833],\n",
       "          [-0.0308, -0.0675, -0.0763, -0.0532,  0.0209],\n",
       "          [-0.1452,  0.0308, -0.1144, -0.0716,  0.1649],\n",
       "          [-0.0617, -0.0484,  0.0090,  0.1748,  0.0834],\n",
       "          [ 0.1366,  0.0070, -0.0380, -0.1730, -0.0234]]]], requires_grad=True)"
      ]
     },
     "execution_count": 39,
     "metadata": {},
     "output_type": "execute_result"
    }
   ],
   "source": [
    "list(net.parameters())[0]  # conv1's .weight"
   ]
  },
  {
   "cell_type": "code",
   "execution_count": 40,
   "metadata": {},
   "outputs": [
    {
     "name": "stdout",
     "output_type": "stream",
     "text": [
      "tensor([[[[ 0.6037,  1.4687, -1.9032,  ...,  0.4374,  0.6948,  0.9238],\n",
      "          [-0.8192,  0.4986, -0.2325,  ..., -0.4423, -0.2899, -1.5858],\n",
      "          [-1.5947, -0.6475,  1.4343,  ..., -0.5507,  0.3688, -1.0173],\n",
      "          ...,\n",
      "          [ 0.6210,  0.9085,  0.0089,  ..., -0.6819,  2.6848, -0.0111],\n",
      "          [ 0.3846, -0.0431,  1.3146,  ..., -0.1887,  1.1367, -0.4960],\n",
      "          [ 1.0715, -1.3381,  1.5364,  ...,  0.0486,  1.4302, -1.7637]]]])\n"
     ]
    }
   ],
   "source": [
    "input = torch.randn(1, 1, 32, 32)\n",
    "print(input)"
   ]
  },
  {
   "cell_type": "code",
   "execution_count": 41,
   "metadata": {},
   "outputs": [
    {
     "name": "stdout",
     "output_type": "stream",
     "text": [
      "tensor([[-0.0487, -0.0073,  0.0879, -0.0596, -0.0364, -0.0173, -0.0623,  0.0081,\n",
      "          0.0340,  0.0165]], grad_fn=<AddmmBackward>)\n",
      "tensor([[-0.0487, -0.0073,  0.0879, -0.0596, -0.0364, -0.0173, -0.0623,  0.0081,\n",
      "          0.0340,  0.0165]], grad_fn=<AddmmBackward>)\n"
     ]
    }
   ],
   "source": [
    "print(net(input))          # PyTorch中Model可直接作用于input，相当于对其进行前向传播计算，就像函数一样！实质是调用了Model的forward方法\n",
    "print(net.forward(input))  # Same with net(input)"
   ]
  },
  {
   "cell_type": "markdown",
   "metadata": {},
   "source": [
    "## 3.2 Loss Function\n",
    "\n",
    "A loss function takes the (output, target) pair of inputs, and computes a value that estimates how far away the output is from the target."
   ]
  },
  {
   "cell_type": "code",
   "execution_count": 53,
   "metadata": {},
   "outputs": [
    {
     "name": "stdout",
     "output_type": "stream",
     "text": [
      "tensor(1.1216, grad_fn=<MseLossBackward>)\n"
     ]
    }
   ],
   "source": [
    "output = net(input)\n",
    "target = torch.randn(10).view(1, -1)\n",
    "loss = nn.MSELoss()(output, target)\n",
    "print(loss)"
   ]
  },
  {
   "cell_type": "markdown",
   "metadata": {},
   "source": [
    "So, when we call ***loss.backward()***, the whole graph is differentiated w.r.t. the loss, and all Tensors in the graph that has ***requires_grad=True*** will have their ***.grad*** Tensor accumulated with the gradient."
   ]
  },
  {
   "cell_type": "code",
   "execution_count": 54,
   "metadata": {},
   "outputs": [
    {
     "name": "stdout",
     "output_type": "stream",
     "text": [
      "<MseLossBackward object at 0x1242f7be0>\n",
      "<AddmmBackward object at 0x1242f7c18>\n",
      "<AccumulateGrad object at 0x1242f7be0>\n"
     ]
    }
   ],
   "source": [
    "print(loss.grad_fn)\n",
    "print(loss.grad_fn.next_functions[0][0])  # Linear\n",
    "print(loss.grad_fn.next_functions[0][0].next_functions[0][0])  # Relu"
   ]
  },
  {
   "cell_type": "markdown",
   "metadata": {},
   "source": [
    "## 3.3 Backprop\n",
    "\n",
    "To **backpropagate the error** all we have to do is to ***loss.backward()***. You need to **clear the existing gradients though**, else gradients will be accumulated to existing gradients."
   ]
  },
  {
   "cell_type": "code",
   "execution_count": 55,
   "metadata": {},
   "outputs": [
    {
     "name": "stdout",
     "output_type": "stream",
     "text": [
      "conv1.bias.grad before backward: \n",
      "tensor([0., 0., 0., 0., 0., 0.])\n",
      "conv1.bias.grad after backward: \n",
      "tensor([ 0.0026,  0.0107,  0.0082,  0.0096, -0.0055, -0.0157])\n"
     ]
    }
   ],
   "source": [
    "net.zero_grad()           # zeroes the gradient buffers of all parameters\n",
    "print('conv1.bias.grad before backward: ')\n",
    "print(net.conv1.bias.grad)\n",
    "loss.backward()\n",
    "print('conv1.bias.grad after backward: ')\n",
    "print(net.conv1.bias.grad)"
   ]
  },
  {
   "cell_type": "markdown",
   "metadata": {},
   "source": [
    "## 3.4 Update the Weights\n",
    "\n",
    "The simplest update rule used in practice is the **Stochastic Gradient Descent (SGD)**:  weight = weight - learning_rate * gradient\n",
    "\n",
    "We can implement this using simple python code:"
   ]
  },
  {
   "cell_type": "code",
   "execution_count": 56,
   "metadata": {},
   "outputs": [],
   "source": [
    "learning_rate = 0.01\n",
    "for f in net.parameters():\n",
    "    f.data.sub_(f.grad.data * learning_rate)"
   ]
  },
  {
   "cell_type": "markdown",
   "metadata": {},
   "source": [
    "Package ***torch.optim*** implements various different update rules: **SGD, Nesterov-SGD, Adam, RMSProp, etc**."
   ]
  },
  {
   "cell_type": "code",
   "execution_count": 58,
   "metadata": {},
   "outputs": [],
   "source": [
    "import torch.optim as optim\n",
    "optimizer = optim.SGD(net.parameters(), lr=0.01)\n",
    "\n",
    "# Belows are in your training loop\n",
    "optimizer.zero_grad()                  # zero the gradient buffers\n",
    "output = net(input)\n",
    "loss = nn.MSELoss()(output, target)\n",
    "loss.backward()\n",
    "optimizer.step()                       # Does the update"
   ]
  },
  {
   "cell_type": "markdown",
   "metadata": {},
   "source": [
    "# 4. Training a Classifier\n",
    "\n",
    "What about data?\n",
    "\n",
    "Generally, when dealing with image, text, audio or video data, you can load data into a *NumPy Array*, then convert it into a **torch.\\*Tensor**\n",
    "\n",
    "**data** --> **Numpy Array** --> **torch.\\*Tensor**\n",
    "\n",
    "Steps to train an image classifier:\n",
    "\n",
    "- Load and normalizing the CIFAR10 training and test datasets using *torchvision*\n",
    "\n",
    "- Define a Convolutional Neural Network\n",
    "\n",
    "- Define a loss function\n",
    "\n",
    "- Train the network on the training data\n",
    "\n",
    "- Test the network on the test data"
   ]
  },
  {
   "cell_type": "markdown",
   "metadata": {},
   "source": [
    "## 4.1 Loading and Normalizing CIFAR10"
   ]
  },
  {
   "cell_type": "code",
   "execution_count": 28,
   "metadata": {},
   "outputs": [],
   "source": [
    "import torch\n",
    "import torchvision\n",
    "import torchvision.transforms as transforms"
   ]
  },
  {
   "cell_type": "code",
   "execution_count": 29,
   "metadata": {},
   "outputs": [
    {
     "name": "stdout",
     "output_type": "stream",
     "text": [
      "Files already downloaded and verified\n",
      "Files already downloaded and verified\n"
     ]
    }
   ],
   "source": [
    "transform = transforms.Compose([\n",
    "    transforms.ToTensor(), \n",
    "    transforms.Normalize((0.5, 0.5, 0.5), (0.5, 0.5, 0.5))\n",
    "])\n",
    "\n",
    "trainset = torchvision.datasets.CIFAR10(root='./data', train=True, download=True, transform=transform)  # 下载数据并进行Transformation\n",
    "trainloader = torch.utils.data.DataLoader(trainset, batch_size=4, shuffle=True, num_workers=2)          # 数据加载器，可按batch_size进行mini-batch式的遍历\n",
    "\n",
    "testset = torchvision.datasets.CIFAR10(root='./data', train=False, download=True, transform=transform)\n",
    "testloader = torch.utils.data.DataLoader(testset, batch_size=4, shuffle=True, num_workers=2)\n",
    "\n",
    "classes = ('plane', 'car', 'bird', 'cat', 'deer', 'dog', 'frog', 'horse', 'ship', 'truck')"
   ]
  },
  {
   "cell_type": "code",
   "execution_count": 30,
   "metadata": {},
   "outputs": [],
   "source": [
    "import matplotlib.pyplot as plt\n",
    "import numpy as np"
   ]
  },
  {
   "cell_type": "code",
   "execution_count": 31,
   "metadata": {},
   "outputs": [],
   "source": [
    "def imshow(img):\n",
    "    img = img / 2 + 0.5\n",
    "    nping = img.numpy()\n",
    "    plt.imshow(np.transpose(nping, (1, 2, 0)))\n",
    "    plt.show()"
   ]
  },
  {
   "cell_type": "code",
   "execution_count": 32,
   "metadata": {},
   "outputs": [
    {
     "data": {
      "image/png": "[encoded data removed]",
      "text/plain": [
       "<Figure size 432x288 with 1 Axes>"
      ]
     },
     "metadata": {},
     "output_type": "display_data"
    },
    {
     "name": "stdout",
     "output_type": "stream",
     "text": [
      "['truck', 'deer', 'car', 'plane']\n"
     ]
    }
   ],
   "source": [
    "train_iter = iter(trainloader)     # 生成针对trainloader的迭代器！\n",
    "images, labels = train_iter.next()\n",
    "\n",
    "imshow(torchvision.utils.make_grid(images))\n",
    "print([classes[labels[j]] for j in range(4)])"
   ]
  },
  {
   "cell_type": "markdown",
   "metadata": {},
   "source": [
    "## 4.2 Define a Convolutional Neural Network\n",
    "\n",
    "Almost same with 3.1, except that now we take 3-channel images instead of 1-channel images"
   ]
  },
  {
   "cell_type": "code",
   "execution_count": 33,
   "metadata": {},
   "outputs": [],
   "source": [
    "import torch.nn as nn\n",
    "import torch.nn.functional as F"
   ]
  },
  {
   "cell_type": "code",
   "execution_count": 34,
   "metadata": {},
   "outputs": [],
   "source": [
    "class Net(nn.Module):  # nn.Module: Base class for all neural network modules. Your models should also subclass this class.\n",
    "    def __init__(self):\n",
    "        super(Net, self).__init__()\n",
    "        self.conv1 = nn.Conv2d(in_channels=3, out_channels=6, kernel_size=5, stride=1, padding=0)\n",
    "        self.pool = nn.MaxPool2d(2, 2)      # 与3.1不同，maxpooling此时也可定义在__init__里，forward里只使用这一个shared的Layer!\n",
    "        self.conv2 = nn.Conv2d(6, 16, 5)\n",
    "        self.fc1 = nn.Linear(in_features=16 * 5 * 5, out_features=120)\n",
    "        self.fc2 = nn.Linear(120, 84)\n",
    "        self.fc3 = nn.Linear(84, 10)\n",
    "    \n",
    "    # Structure: input-->conv1-->relu-->pool-->conv2-->relu-->pool-->view-->fc1-->relu-->fc2-->relu-->fc3\n",
    "    def forward(self, x):\n",
    "        x = self.pool(F.relu(self.conv1(x)))\n",
    "        x = self.pool(F.relu(self.conv2(x)))\n",
    "        x = x.view(-1, 16 * 5 * 5)\n",
    "        x = F.relu(self.fc1(x))\n",
    "        x = F.relu(self.fc2(x))\n",
    "        x = self.fc3(x)                      # 疑惑：Softmax或Sigmoid函数在哪里？？？\n",
    "        return x"
   ]
  },
  {
   "cell_type": "code",
   "execution_count": 50,
   "metadata": {},
   "outputs": [],
   "source": [
    "net = Net()"
   ]
  },
  {
   "cell_type": "markdown",
   "metadata": {},
   "source": [
    "## 4.3 Define a Loss Function and Optimizer"
   ]
  },
  {
   "cell_type": "code",
   "execution_count": 51,
   "metadata": {},
   "outputs": [],
   "source": [
    "import torch.optim as optim\n",
    "\n",
    "# 在训练Loop外面事先定义后Loss和Optimizer，在训练Loop中可以多次使用\n",
    "criterion = nn.CrossEntropyLoss()                                # Classification Cross-Entropy Loss\n",
    "optimizer = optim.SGD(net.parameters(), lr=0.001, momentum=0.9)  # SGD with momentum"
   ]
  },
  {
   "cell_type": "markdown",
   "metadata": {},
   "source": [
    "## 4.4 Train the Network\n",
    "\n",
    "Things start to get interesting. We simply loop over our data iterator, and feed the inputs to the network and optimize."
   ]
  },
  {
   "cell_type": "code",
   "execution_count": 52,
   "metadata": {},
   "outputs": [
    {
     "name": "stdout",
     "output_type": "stream",
     "text": [
      "Epoch: 1  i:  2000  avg_loss: 2.178  current_loss: 1.712\n",
      "Epoch: 1  i:  4000  avg_loss: 3.980  current_loss: 0.763\n",
      "Epoch: 1  i:  6000  avg_loss: 5.624  current_loss: 2.094\n",
      "Epoch: 1  i:  8000  avg_loss: 7.187  current_loss: 1.520\n",
      "Epoch: 1  i: 10000  avg_loss: 8.702  current_loss: 2.115\n",
      "Epoch: 1  i: 12000  avg_loss: 10.141  current_loss: 1.325\n",
      "Epoch: 2  i:  2000  avg_loss: 1.379  current_loss: 1.600\n",
      "Epoch: 2  i:  4000  avg_loss: 2.718  current_loss: 1.659\n",
      "Epoch: 2  i:  6000  avg_loss: 4.073  current_loss: 1.359\n",
      "Epoch: 2  i:  8000  avg_loss: 5.372  current_loss: 1.438\n",
      "Epoch: 2  i: 10000  avg_loss: 6.658  current_loss: 1.734\n",
      "Epoch: 2  i: 12000  avg_loss: 7.932  current_loss: 1.163\n"
     ]
    }
   ],
   "source": [
    "# 手动编写训练过程，在Keras里只有一行：model.fit(x, y, epochs, optimizer, )\n",
    "epochs = 2\n",
    "for epoch in range(epochs):   # 手动遍历epochs次整个训练集\n",
    "    running_loss = 0.0\n",
    "    for i, data in enumerate(trainloader):  # 对于每次遍历，手动指定每次的mini-batch的data，及后续如何使用data来计算loss，让loss进行backward，随后optimize\n",
    "        inputs, labels = data\n",
    "        optimizer.zero_grad()               # zero the parameter gradients\n",
    "        \n",
    "        # forward + backward + optimize\n",
    "        outputs = net(inputs)\n",
    "        loss = criterion(outputs, labels)\n",
    "        loss.backward()\n",
    "        optimizer.step()\n",
    "        \n",
    "        running_loss += loss.item()  # 当前2000个mini-batches的loss之和\n",
    "        if i % 2000 == 1999:         # print every 2000 mini-batches\n",
    "            print('Epoch: %d  i: %5d  avg_loss: %.3f  current_loss: %.3f' % (epoch + 1, i + 1, running_loss / 2000, loss.item()))\n",
    "            runnning_loss = 0.0"
   ]
  },
  {
   "cell_type": "markdown",
   "metadata": {},
   "source": [
    "## 4.5 Test the Network on the Test Data"
   ]
  },
  {
   "cell_type": "code",
   "execution_count": 53,
   "metadata": {},
   "outputs": [
    {
     "data": {
      "image/png": "[encoded data removed]",
      "text/plain": [
       "<Figure size 432x288 with 1 Axes>"
      ]
     },
     "metadata": {},
     "output_type": "display_data"
    },
    {
     "name": "stdout",
     "output_type": "stream",
     "text": [
      "GroudTruth:  ['  cat', 'plane', 'plane', 'truck']\n"
     ]
    }
   ],
   "source": [
    "test_iter = iter(testloader)\n",
    "images, labels = test_iter.next()\n",
    "\n",
    "imshow(torchvision.utils.make_grid(images))\n",
    "print('GroudTruth: ', ['%5s' % classes[labels[j]] for j in range(4)])"
   ]
  },
  {
   "cell_type": "code",
   "execution_count": 54,
   "metadata": {},
   "outputs": [
    {
     "name": "stdout",
     "output_type": "stream",
     "text": [
      "Predicted:  ['  cat', 'plane', 'plane', 'truck']\n"
     ]
    }
   ],
   "source": [
    "outputs = net(images)                   # net是模型实例，应用的话直接当作函数来使用！代替了net.predict\n",
    "_, predicted = torch.max(outputs, 1)    # outputs和outputs.data 都阔以~\n",
    "print('Predicted: ', ['%5s' % classes[labels[j]] for j in range(4)])"
   ]
  },
  {
   "cell_type": "code",
   "execution_count": 55,
   "metadata": {},
   "outputs": [
    {
     "name": "stdout",
     "output_type": "stream",
     "text": [
      "Accuracy of the network on the 10000 test images: 56%\n"
     ]
    }
   ],
   "source": [
    "correct, total = 0, 0\n",
    "with torch.no_grad():   # 应用时要设置no_grad???\n",
    "    for data in testloader:\n",
    "        images, labels = data\n",
    "        outputs = net(images)\n",
    "        _, predicted = torch.max(outputs, 1)\n",
    "        total += labels.size(0)\n",
    "        correct += (predicted == labels).sum().item()\n",
    "        \n",
    "print('Accuracy of the network on the 10000 test images: %d%%' % (100 * correct / total))"
   ]
  },
  {
   "cell_type": "markdown",
   "metadata": {},
   "source": [
    "What are the classes that performed well, and the classes that didn't perform well:"
   ]
  },
  {
   "cell_type": "code",
   "execution_count": 68,
   "metadata": {},
   "outputs": [],
   "source": [
    "class_correct = list(0. for i in range(10))\n",
    "class_total = list(0. for i in range(10))\n",
    "with torch.no_grad():\n",
    "    for data in testloader:\n",
    "        images, labels = data\n",
    "        outputs = net(images)\n",
    "        _, predicted = torch.max(outputs, 1)\n",
    "        c = (predicted == labels).squeeze()\n",
    "        for i in range(4):                      # 因为batch_size=4，所以每次labels只有4个\n",
    "            label = labels[i]\n",
    "            class_correct[label] += c[i].item() # Use torch.Tensor.item() to get a Python number from a tensor containing a single value\n",
    "            class_total[label] += 1"
   ]
  },
  {
   "cell_type": "code",
   "execution_count": 69,
   "metadata": {},
   "outputs": [
    {
     "name": "stdout",
     "output_type": "stream",
     "text": [
      "Accuracy of plane : 58%\n",
      "Accuracy of   car : 67%\n",
      "Accuracy of  bird : 50%\n",
      "Accuracy of   cat : 31%\n",
      "Accuracy of  deer : 50%\n",
      "Accuracy of   dog : 59%\n",
      "Accuracy of  frog : 60%\n",
      "Accuracy of horse : 62%\n",
      "Accuracy of  ship : 57%\n",
      "Accuracy of truck : 69%\n"
     ]
    }
   ],
   "source": [
    "for i in range(10):\n",
    "    print('Accuracy of %5s : %2d%%' % (classes[i], 100 * class_correct[i] / class_total[i]))"
   ]
  },
  {
   "cell_type": "markdown",
   "metadata": {},
   "source": [
    "## 4.6 Training on GPU\n",
    "\n",
    "First define our devices as the 1st visible cuda device if we have CUDA available:"
   ]
  },
  {
   "cell_type": "code",
   "execution_count": 72,
   "metadata": {},
   "outputs": [
    {
     "name": "stdout",
     "output_type": "stream",
     "text": [
      "cpu\n"
     ]
    }
   ],
   "source": [
    "device = torch.device('cuda:0' if torch.cuda.is_available() else 'cpu')\n",
    "print(device)"
   ]
  },
  {
   "cell_type": "code",
   "execution_count": 76,
   "metadata": {},
   "outputs": [
    {
     "data": {
      "text/plain": [
       "Net(\n",
       "  (conv1): Conv2d(3, 6, kernel_size=(5, 5), stride=(1, 1))\n",
       "  (pool): MaxPool2d(kernel_size=2, stride=2, padding=0, dilation=1, ceil_mode=False)\n",
       "  (conv2): Conv2d(6, 16, kernel_size=(5, 5), stride=(1, 1))\n",
       "  (fc1): Linear(in_features=400, out_features=120, bias=True)\n",
       "  (fc2): Linear(in_features=120, out_features=84, bias=True)\n",
       "  (fc3): Linear(in_features=84, out_features=10, bias=True)\n",
       ")"
      ]
     },
     "execution_count": 76,
     "metadata": {},
     "output_type": "execute_result"
    }
   ],
   "source": [
    "net.to(device)  # Recursively go over all modules and convert their parameters and buffers to CUDA tensors"
   ]
  },
  {
   "cell_type": "markdown",
   "metadata": {},
   "source": [
    "Remember that you will have to send the inputs and targets **at every step** to the GPU too:"
   ]
  },
  {
   "cell_type": "code",
   "execution_count": 78,
   "metadata": {},
   "outputs": [],
   "source": [
    "inputs, labels = inputs.to(device), labels.to(device)"
   ]
  },
  {
   "cell_type": "markdown",
   "metadata": {},
   "source": [
    "# 5. Data Parallelism"
   ]
  },
  {
   "cell_type": "code",
   "execution_count": null,
   "metadata": {},
   "outputs": [],
   "source": [
    "device = torch.device('cuda:0')\n",
    "model.to(device)                 # put the model on a GPU\n",
    "mytensor = my_tensor.to(device)  # copy all tensors to the GPU"
   ]
  },
  {
   "cell_type": "markdown",
   "metadata": {},
   "source": [
    "Please note that just calling ***my_tensor.to(device)*** returns a new copy of *my_tensor* on GPU instead of rewriting *my_tensor*. You need to assign it to a new tensor and use that tensor on the GPU."
   ]
  },
  {
   "cell_type": "code",
   "execution_count": null,
   "metadata": {},
   "outputs": [],
   "source": []
  }
 ],
 "metadata": {
  "kernelspec": {
   "display_name": "Python 3",
   "language": "python",
   "name": "python3"
  },
  "language_info": {
   "codemirror_mode": {
    "name": "ipython",
    "version": 3
   },
   "file_extension": ".py",
   "mimetype": "text/x-python",
   "name": "python",
   "nbconvert_exporter": "python",
   "pygments_lexer": "ipython3",
   "version": "3.7.4"
  }
 },
 "nbformat": 4,
 "nbformat_minor": 4
}

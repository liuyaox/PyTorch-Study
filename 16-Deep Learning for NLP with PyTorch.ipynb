{
 "cells": [
  {
   "cell_type": "markdown",
   "metadata": {},
   "source": [
    "# Deep Learning for NLP with PyTorch\n",
    "\n",
    "## Introduction to PyTorch\n",
    "\n",
    "省略\n",
    "\n",
    "## Deep Learning with PyTorch\n",
    "\n",
    "### Deep Learning Building Blocks: Affine maps, non-linearities and objectives\n",
    "\n",
    "Deep learning consists of composing linearities with non-linearities in clever ways. Non-linearities allows for powerful models.\n",
    "\n",
    "#### Affine Maps\n",
    "\n",
    "Affine map is a function *f(x)* where *f(x)=Ax+b* for a matrix A and vectors x, b.\n",
    "\n",
    "PyTorch and most other deep learning frameworks do things a little differently than traditional linear algebra. It **maps the rows of the input instead of the columns**. That is, the i'th row of the output below is the mapping of the i'th row of input under A, plus the bias term."
   ]
  },
  {
   "cell_type": "code",
   "execution_count": 1,
   "metadata": {},
   "outputs": [
    {
     "data": {
      "text/plain": [
       "<torch._C.Generator at 0x112849210>"
      ]
     },
     "execution_count": 1,
     "metadata": {},
     "output_type": "execute_result"
    }
   ],
   "source": [
    "import torch\n",
    "import torch.nn as nn\n",
    "import torch.nn.functional as F\n",
    "import torch.optim as optim\n",
    "torch.manual_seed(1)"
   ]
  },
  {
   "cell_type": "code",
   "execution_count": 2,
   "metadata": {},
   "outputs": [
    {
     "name": "stdout",
     "output_type": "stream",
     "text": [
      "tensor([[ 0.1755, -0.3268, -0.5069],\n",
      "        [-0.6602,  0.2260,  0.1089]], grad_fn=<AddmmBackward>)\n"
     ]
    }
   ],
   "source": [
    "lin = nn.Linear(5, 3)\n",
    "data = torch.randn(2, 5)\n",
    "print(lin(data))"
   ]
  },
  {
   "cell_type": "markdown",
   "metadata": {},
   "source": [
    "#### Non-Linearities\n",
    "\n",
    "We know that composing affine maps gives you an affine map. So if our model is a long chain of affine compositions, this adds no new power to your model than just doing a single affine map.\n",
    "\n",
    "If we introduce non-linearitiesin between the affine layers, we can build much more powerful models.\n",
    "\n",
    "There are a few core non-linearities: **tanh(x), sigmoid(x), ReLU(x)**, etc. They are the most common since they have gradients that are easy to compute, and computing gradients is essential for learning.\n",
    "\n",
    "In PyTorch, most non-linearities are in **torch.functional**, and they don't have parameters (weights) that need to be updated during training."
   ]
  },
  {
   "cell_type": "code",
   "execution_count": 3,
   "metadata": {},
   "outputs": [
    {
     "name": "stdout",
     "output_type": "stream",
     "text": [
      "tensor([[-0.5404, -2.2102],\n",
      "        [ 2.1130, -0.0040]])\n",
      "tensor([[0.0000, 0.0000],\n",
      "        [2.1130, 0.0000]])\n"
     ]
    }
   ],
   "source": [
    "data = torch.randn(2, 2)\n",
    "print(data)\n",
    "print(F.relu(data))"
   ]
  },
  {
   "cell_type": "markdown",
   "metadata": {},
   "source": [
    "#### Softmax and Probabilities\n",
    "\n",
    "The function Softmax(x) is also just a non-linearity, but it is special in that it usually is the last operation done in a network. This is because it takes in a vector of real numbers and returns a probability distribution."
   ]
  },
  {
   "cell_type": "markdown",
   "metadata": {},
   "source": [
    "> 刘尧：注意！！！log_softmax就是在softmax外进行个log操作，不过是同时进行的，而非分别进行。因为对于分类来说，一般使用对数似然激活函数，就一次性都计算了。\n",
    "\n",
    "> 注意！ PyTorch里提供了**torch.nn.CrossEntropyLoss(This criterion combines nn.LogSoftmax() and nn.NLLLoss() in one single class)**，其整合了上面的步骤。这和tf.nn.softmax_cross_entropy_with_logits的功能是一致的。\n",
    "\n",
    "> 必须明确一点：在PyTorch中若模型使用CrossEntropyLoss这个loss函数，则**不应该在最后一层再使用softmax进行激活**。CrossEntropyLoss() is the same as NLLLoss(), except it does the log softmax for you.\n",
    "\n",
    "> 而在Keras中，我们通常在最后一层使用softmax进行激活，保证输出神经元的值即分类的概率值，然后在compile中使用损失函数categorical_crossentropy，这符合常理。"
   ]
  },
  {
   "cell_type": "code",
   "execution_count": 4,
   "metadata": {},
   "outputs": [
    {
     "name": "stdout",
     "output_type": "stream",
     "text": [
      "tensor([ 1.3800, -1.3505,  0.3455,  0.5046,  1.8213])\n",
      "tensor([0.2948, 0.0192, 0.1048, 0.1228, 0.4584])\n",
      "tensor(1.)\n",
      "tensor([-1.2214, -3.9519, -2.2560, -2.0969, -0.7801])\n"
     ]
    }
   ],
   "source": [
    "data = torch.randn(5)\n",
    "print(data)\n",
    "print(F.softmax(data, dim=0))\n",
    "print(F.softmax(data, dim=0).sum())\n",
    "print(F.log_softmax(data, dim=0))"
   ]
  },
  {
   "cell_type": "markdown",
   "metadata": {},
   "source": [
    "#### Objective Functions\n",
    "\n",
    "省略\n",
    "\n",
    "### Optimization and Training\n",
    "\n",
    "省略\n",
    "\n",
    "### Creating Network Components in PyTorch\n",
    "\n",
    "#### Example: Logistic Regression Bag-of-Words classifier\n",
    "\n",
    "Our model will map a sparse BoW representation to log probabilities over labels. Say our entire vocab is two words \"hello\" and \"world\", with indices 0 and 1 respectively. In general, the BoW vector for sentence is **[Count(hello), Count(world)]**. \n",
    "\n",
    "Denote this BoW vector as x. The output of our network is **logSoftmax(Ax+b)**"
   ]
  },
  {
   "cell_type": "code",
   "execution_count": 5,
   "metadata": {},
   "outputs": [],
   "source": [
    "data = [('me gusta comer en la cafeteria'.split(), 'SPANISH'),\n",
    "        ('Give it to me'.split(), 'ENGLISH'),\n",
    "        ('No creo que sea una buena idea'.split(), 'SPANISH'),\n",
    "        ('No it is not a good idea to get lost at sea'.split(), 'ENGLISH')]\n",
    "test_data = [('Yo creo que si'.split(), 'SPANISH'),\n",
    "             ('it is lost on me'.split(), 'ENGLISH')]"
   ]
  },
  {
   "cell_type": "code",
   "execution_count": 6,
   "metadata": {},
   "outputs": [
    {
     "name": "stdout",
     "output_type": "stream",
     "text": [
      "{'me': 0, 'gusta': 1, 'comer': 2, 'en': 3, 'la': 4, 'cafeteria': 5, 'Give': 6, 'it': 7, 'to': 8, 'No': 9, 'creo': 10, 'que': 11, 'sea': 12, 'una': 13, 'buena': 14, 'idea': 15, 'is': 16, 'not': 17, 'a': 18, 'good': 19, 'get': 20, 'lost': 21, 'at': 22, 'Yo': 23, 'si': 24, 'on': 25}\n"
     ]
    }
   ],
   "source": [
    "word2index = {}\n",
    "for sent, _ in data + test_data:  # vocab来自于所有数据：训练数据和测试数据\n",
    "    for word in sent:\n",
    "        if word not in word2index:\n",
    "            word2index[word] = len(word2index)  # 巧妙！\n",
    "print(word2index)"
   ]
  },
  {
   "cell_type": "code",
   "execution_count": 7,
   "metadata": {},
   "outputs": [],
   "source": [
    "VOCAB_SIZE = len(word2index)\n",
    "NUM_LABEL = 2"
   ]
  },
  {
   "cell_type": "code",
   "execution_count": 8,
   "metadata": {},
   "outputs": [],
   "source": [
    "class BoWClassifier(nn.Module):\n",
    "    \n",
    "    def __init__(self, num_labels, vocab_size):\n",
    "        super(BoWClassifier, self).__init__()\n",
    "        self.linear = nn.Linear(vocab_size, num_labels)\n",
    "        # Note: the non-linearity log softmax does not have parameters! So we don't need to worry about them here\n",
    "        \n",
    "    def forward(self, bow_vec):\n",
    "        return F.log_softmax(self.linear(bow_vec), dim=1)"
   ]
  },
  {
   "cell_type": "code",
   "execution_count": 9,
   "metadata": {},
   "outputs": [],
   "source": [
    "def make_bow_vector(sentence, word2index):\n",
    "    vec = torch.zeros(len(word2index))\n",
    "    for word in sentence:\n",
    "        vec[word2index[word]] += 1\n",
    "    return vec.view(1, -1)"
   ]
  },
  {
   "cell_type": "code",
   "execution_count": 10,
   "metadata": {},
   "outputs": [],
   "source": [
    "label2index = {\"SPANISH\": 0, \"ENGLISH\": 1}\n",
    "def make_target(label, label2index):\n",
    "    return torch.LongTensor([label2index[label]])"
   ]
  },
  {
   "cell_type": "code",
   "execution_count": 11,
   "metadata": {},
   "outputs": [
    {
     "name": "stdout",
     "output_type": "stream",
     "text": [
      "Parameter containing:\n",
      "tensor([[ 0.1194,  0.0609, -0.1268,  0.1274,  0.1191,  0.1739, -0.1099, -0.0323,\n",
      "         -0.0038,  0.0286, -0.1488, -0.1392,  0.1067, -0.0460,  0.0958,  0.0112,\n",
      "          0.0644,  0.0431,  0.0713,  0.0972, -0.1816,  0.0987, -0.1379, -0.1480,\n",
      "          0.0119, -0.0334],\n",
      "        [ 0.1152, -0.1136, -0.1743,  0.1427, -0.0291,  0.1103,  0.0630, -0.1471,\n",
      "          0.0394,  0.0471, -0.1313, -0.0931,  0.0669,  0.0351, -0.0834, -0.0594,\n",
      "          0.1796, -0.0363,  0.1106,  0.0849, -0.1268, -0.1668,  0.1882,  0.0102,\n",
      "          0.1344,  0.0406]], requires_grad=True)\n",
      "Parameter containing:\n",
      "tensor([0.0631, 0.1465], requires_grad=True)\n"
     ]
    }
   ],
   "source": [
    "model = BoWClassifier(NUM_LABEL, VOCAB_SIZE)\n",
    "for param in model.parameters():\n",
    "    print(param)"
   ]
  },
  {
   "cell_type": "code",
   "execution_count": 12,
   "metadata": {},
   "outputs": [
    {
     "name": "stdout",
     "output_type": "stream",
     "text": [
      "tensor([[-0.5378, -0.8771]])\n"
     ]
    }
   ],
   "source": [
    "with torch.no_grad():\n",
    "    sample = data[0]\n",
    "    bow_vector = make_bow_vector(sample[0], word2index)\n",
    "    log_probs = model(bow_vector)\n",
    "    print(log_probs)"
   ]
  },
  {
   "cell_type": "code",
   "execution_count": 13,
   "metadata": {},
   "outputs": [],
   "source": [
    "loss_function = nn.NLLLoss()\n",
    "optimizer = optim.SGD(model.parameters(), lr=0.1)\n",
    "for epoch in range(100):\n",
    "    for instance, label in data:\n",
    "        # Step 1. Remember that PyTorch accumulates gradients. We need to clear them out before each instance.\n",
    "        model.zero_grad()\n",
    "        # Step 2.\n",
    "        bow_vec = make_bow_vector(instance, word2index)\n",
    "        target = make_target(label, label2index)\n",
    "        # Step 3. Run forward pass\n",
    "        log_probs = model(bow_vec)\n",
    "        # Step 4. Compute the loss, gradients, and update the parameters\n",
    "        loss = loss_function(log_probs, target)\n",
    "        loss.backward()\n",
    "        optimizer.step()"
   ]
  },
  {
   "cell_type": "code",
   "execution_count": 14,
   "metadata": {},
   "outputs": [
    {
     "name": "stdout",
     "output_type": "stream",
     "text": [
      "tensor([[-0.2093, -1.6669]])\n",
      "tensor([[-2.5330, -0.0828]])\n"
     ]
    }
   ],
   "source": [
    "with torch.no_grad():\n",
    "    for instance, label in test_data:\n",
    "        bow_vec = make_bow_vector(instance, word2index)\n",
    "        log_probs = model(bow_vec)\n",
    "        print(log_probs)"
   ]
  },
  {
   "cell_type": "markdown",
   "metadata": {},
   "source": [
    "## Word Embeddings: Encoding Lexical Semantics\n",
    "\n",
    "A fundamental linguistic assumption: words appearing in similar contexts are related to each other semantically. This is called the **distributional hypothesis**.\n",
    "\n",
    "### Getting Dense Word Embeddings\n",
    "\n",
    "Suppose we have seen the sentences in training data:\n",
    "\n",
    "* The mathematician ran to the store.*\n",
    "\n",
    "* The physicist ran to the store.*\n",
    "\n",
    "* The mathematician solved the open problem.*\n",
    "\n",
    "Now suppose we get a new sentence never seen before in training data:\n",
    "\n",
    "* The physicist solved the open problem.*\n",
    "\n",
    "How could we actually encode semantic similarity in words? Maybe we think up some semantic attributions. For example, in the sentences above, **we can give 'mathematician' and 'physicist' a high score for the 'is able to run' semantic attribute**. Think of some other attributes, and imagine what you might score some common words on those attributes.\n",
    "\n",
    "If each attribute is a dimension, then we might give each word a vector, like this:\n",
    "\n",
    "![](./image/word_embedding_attribute.png)\n",
    "\n",
    "The attributes are: **'can run', 'likes coffee', 'majored in Physics'**, ..., which are dimensions.\n",
    "\n",
    "A big pain: we could think of thousands of different semantic attributes that might be relevant to determining similarity.\n",
    "\n",
    "Idea of deep learning: the neural network learns representations of the features, rather than requiring the programmer to design the features.\n",
    "\n",
    "In this way, we will have some ***latent semantic attributes*** that the network can, in principle, learn. BTW, these attributes will probably not be interpretable.\n",
    "\n",
    "In summary, **word embeddings are a representation of the semantics of a word, efficiently encoding semantic information that might be relevant to the task at hand**. We can embed other things too: part of speech tags, parse trees, anything.\n",
    "\n",
    "### Word Embeddings in PyTorch\n",
    "\n",
    "**Similar to how we defined a unique index for each word when making one-hot vectors, we also need to define an index for each word when using embeddings**. These will be keys into a lookup table. In code below, the mapping from words to indices is a dictionary named *word_to_ix*.\n",
    "\n",
    "To index into this table, we must use ***torch.LongTensor***, since the indices are integers, not floats."
   ]
  },
  {
   "cell_type": "code",
   "execution_count": 2,
   "metadata": {},
   "outputs": [
    {
     "data": {
      "text/plain": [
       "<torch._C.Generator at 0x1138491d0>"
      ]
     },
     "execution_count": 2,
     "metadata": {},
     "output_type": "execute_result"
    }
   ],
   "source": [
    "import torch\n",
    "import torch.nn as nn\n",
    "import torch.nn.functional as F\n",
    "import torch.optim as optim\n",
    "torch.manual_seed(1)"
   ]
  },
  {
   "cell_type": "code",
   "execution_count": 5,
   "metadata": {},
   "outputs": [
    {
     "name": "stdout",
     "output_type": "stream",
     "text": [
      "tensor([[-0.8923, -0.0583, -0.1955, -0.9656,  0.4224],\n",
      "        [ 0.2673, -0.4212, -0.5107, -1.5727, -0.1232]],\n",
      "       grad_fn=<EmbeddingBackward>)\n"
     ]
    }
   ],
   "source": [
    "word_to_ix = {'hello': 0, 'world': 1}\n",
    "embeds = nn.Embedding(2, 5)   # V=2, D=5   初始化from标准正态分布\n",
    "lookup_tensor = torch.tensor([0, 1], dtype=torch.long)\n",
    "hello_embed = embeds(lookup_tensor)\n",
    "print(hello_embed)"
   ]
  },
  {
   "cell_type": "markdown",
   "metadata": {},
   "source": [
    "### An Example: N-Gram Language Modeling"
   ]
  },
  {
   "cell_type": "code",
   "execution_count": 6,
   "metadata": {},
   "outputs": [
    {
     "name": "stdout",
     "output_type": "stream",
     "text": [
      "[(['When', 'forty'], 'winters'), (['forty', 'winters'], 'shall'), (['winters', 'shall'], 'besiege')]\n"
     ]
    }
   ],
   "source": [
    "CONTEXT_SIZE = 2\n",
    "EMBEDDING_DIM = 10\n",
    "test_sentence = \"\"\"When forty winters shall besiege thy brow,\n",
    "And dig deep trenches in thy beauty's field,\n",
    "Thy youth's proud livery so gazed on now,\n",
    "Will be a totter'd weed of small worth held:\n",
    "Then being asked, where all thy beauty lies,\n",
    "Where all the treasure of thy lusty days;\n",
    "To say, within thine own deep sunken eyes,\n",
    "Were an all-eating shame, and thriftless praise.\n",
    "How much more praise deserv'd thy beauty's use,\n",
    "If thou couldst answer 'This fair child of mine\n",
    "Shall sum my count, and make my old excuse,'\n",
    "Proving his beauty by succession thine!\n",
    "This were to be new made when thou art old,\n",
    "And see thy blood warm when thou feel'st it cold.\"\"\".split()\n",
    "\n",
    "# Build a list of tuples: ([word_i-2, word_i-1], target word)   构造出这样的tuple，是trigram的精髓！\n",
    "trigrams = [([test_sentence[i], test_sentence[i + 1]], test_sentence[i + 2]) for i in range(len(test_sentence) - 2)]\n",
    "print(trigrams[:3])"
   ]
  },
  {
   "cell_type": "code",
   "execution_count": 7,
   "metadata": {},
   "outputs": [],
   "source": [
    "vocab = set(test_sentence)\n",
    "word_to_ix = {word: i for i, word in enumerate(vocab)}"
   ]
  },
  {
   "cell_type": "code",
   "execution_count": 8,
   "metadata": {},
   "outputs": [
    {
     "name": "stdout",
     "output_type": "stream",
     "text": [
      "{'trenches': 0, \"totter'd\": 1, 'Then': 2, 'being': 3, 'mine': 4, 'shall': 5, 'so': 6, 'thine!': 7, 'And': 8, 'thine': 9, 'be': 10, 'where': 11, 'dig': 12, \"deserv'd\": 13, 'praise': 14, 'warm': 15, 'much': 16, 'sunken': 17, 'more': 18, 'now,': 19, 'Will': 20, 'lusty': 21, 'asked,': 22, 'in': 23, 'worth': 24, \"'This\": 25, 'it': 26, 'by': 27, 'thriftless': 28, 'thou': 29, \"excuse,'\": 30, 'fair': 31, 'and': 32, \"youth's\": 33, 'gazed': 34, 'made': 35, 'art': 36, 'small': 37, 'within': 38, 'blood': 39, 'lies,': 40, 'cold.': 41, 'Thy': 42, 'When': 43, 'were': 44, 'beauty': 45, 'This': 46, 'when': 47, 'my': 48, 'Proving': 49, 'succession': 50, 'of': 51, 'use,': 52, 'Where': 53, 'make': 54, 'thy': 55, 'on': 56, \"feel'st\": 57, 'If': 58, 'How': 59, 'days;': 60, 'shame,': 61, 'child': 62, 'deep': 63, 'field,': 64, 'a': 65, 'to': 66, 'the': 67, \"beauty's\": 68, 'livery': 69, 'couldst': 70, 'winters': 71, 'Were': 72, 'new': 73, 'answer': 74, 'an': 75, 'old,': 76, 'old': 77, 'all-eating': 78, 'treasure': 79, 'say,': 80, 'praise.': 81, 'To': 82, 'his': 83, 'forty': 84, 'held:': 85, 'weed': 86, 'besiege': 87, 'eyes,': 88, 'all': 89, 'see': 90, 'proud': 91, 'Shall': 92, 'sum': 93, 'brow,': 94, 'count,': 95, 'own': 96}\n"
     ]
    }
   ],
   "source": [
    "print(word_to_ix)"
   ]
  },
  {
   "cell_type": "code",
   "execution_count": 9,
   "metadata": {},
   "outputs": [],
   "source": [
    "class NGramLanguageModeler(nn.Module):\n",
    "    \n",
    "    def __init__(self, vocab_size, embedding_dim, context_size):\n",
    "        super(NGramLanguageModeler, self).__init__()\n",
    "        self.embeddings = nn.Embedding(vocab_size, embedding_dim)\n",
    "        self.linear1 = nn.Linear(context_size * embedding_dim, 128)  # context_size个word的embedding拼接在一起\n",
    "        self.linear2 = nn.Linear(128, vocab_size)  # 为什么是vocab_size? 因为对于Language Model来说，每次都要输出所有word的概率！\n",
    "        \n",
    "    def forward(self, inputs):\n",
    "        embeds = self.embeddings(inputs).view((1, -1))  # 所有(context_size个)embedding经reshape后拼接在一起\n",
    "        out = F.relu(self.linear1(embeds))\n",
    "        out = self.linear2(out)\n",
    "        log_probs = F.log_softmax(out, dim=1)\n",
    "        return log_probs"
   ]
  },
  {
   "cell_type": "code",
   "execution_count": null,
   "metadata": {},
   "outputs": [],
   "source": []
  }
 ],
 "metadata": {
  "kernelspec": {
   "display_name": "Python 3",
   "language": "python",
   "name": "python3"
  },
  "language_info": {
   "codemirror_mode": {
    "name": "ipython",
    "version": 3
   },
   "file_extension": ".py",
   "mimetype": "text/x-python",
   "name": "python",
   "nbconvert_exporter": "python",
   "pygments_lexer": "ipython3",
   "version": "3.6.5"
  }
 },
 "nbformat": 4,
 "nbformat_minor": 2
}

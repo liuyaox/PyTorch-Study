{
 "cells": [
  {
   "cell_type": "markdown",
   "metadata": {},
   "source": [
    "# Chatbot Tutorial\n",
    "\n",
    "## 1. Preparations"
   ]
  },
  {
   "cell_type": "code",
   "execution_count": 1,
   "metadata": {},
   "outputs": [],
   "source": [
    "from __future__ import absolute_import\n",
    "from __future__ import division\n",
    "from __future__ import print_function\n",
    "from __future__ import unicode_literals\n",
    "\n",
    "import torch\n",
    "from torch.jit import script, trace\n",
    "import torch.nn as nn\n",
    "from torch import optim\n",
    "import torch.nn.functional as F\n",
    "import csv\n",
    "import random\n",
    "import re\n",
    "import os\n",
    "import unicodedata\n",
    "import codecs\n",
    "from io import open\n",
    "import itertools\n",
    "import math\n",
    "\n",
    "USE_CUDA = torch.cuda.is_available()\n",
    "device = torch.device(\"cuda\" if USE_CUDA else \"cpu\")"
   ]
  },
  {
   "cell_type": "markdown",
   "metadata": {},
   "source": [
    "## 2. Load & Preprocess Data"
   ]
  },
  {
   "cell_type": "code",
   "execution_count": 2,
   "metadata": {},
   "outputs": [],
   "source": [
    "corpus_name = 'cornell_movie_dialogs_corpus'\n",
    "corpus = os.path.join('data', corpus_name)\n",
    "\n",
    "def printLines(file, n=10):\n",
    "    with open(file, 'rb') as fr:\n",
    "        lines = fr.readlines()\n",
    "    for line in lines[:n]:\n",
    "        print(line)"
   ]
  },
  {
   "cell_type": "code",
   "execution_count": 3,
   "metadata": {},
   "outputs": [
    {
     "name": "stdout",
     "output_type": "stream",
     "text": [
      "b'L1045 +++$+++ u0 +++$+++ m0 +++$+++ BIANCA +++$+++ They do not!\\n'\n",
      "b'L1044 +++$+++ u2 +++$+++ m0 +++$+++ CAMERON +++$+++ They do to!\\n'\n",
      "b'L985 +++$+++ u0 +++$+++ m0 +++$+++ BIANCA +++$+++ I hope so.\\n'\n",
      "b'L984 +++$+++ u2 +++$+++ m0 +++$+++ CAMERON +++$+++ She okay?\\n'\n",
      "b\"L925 +++$+++ u0 +++$+++ m0 +++$+++ BIANCA +++$+++ Let's go.\\n\"\n",
      "b'L924 +++$+++ u2 +++$+++ m0 +++$+++ CAMERON +++$+++ Wow\\n'\n",
      "b\"L872 +++$+++ u0 +++$+++ m0 +++$+++ BIANCA +++$+++ Okay -- you're gonna need to learn how to lie.\\n\"\n",
      "b'L871 +++$+++ u2 +++$+++ m0 +++$+++ CAMERON +++$+++ No\\n'\n",
      "b'L870 +++$+++ u0 +++$+++ m0 +++$+++ BIANCA +++$+++ I\\'m kidding.  You know how sometimes you just become this \"persona\"?  And you don\\'t know how to quit?\\n'\n",
      "b'L869 +++$+++ u0 +++$+++ m0 +++$+++ BIANCA +++$+++ Like my fear of wearing pastels?\\n'\n"
     ]
    }
   ],
   "source": [
    "printLines(os.path.join(corpus, 'movie_lines.txt'))"
   ]
  },
  {
   "cell_type": "markdown",
   "metadata": {},
   "source": [
    "### Create formatted data file\n",
    "\n",
    "Formatted data file: each line contains ***a tab-separated query sentence*** and ***a response sentence*** pair."
   ]
  },
  {
   "cell_type": "code",
   "execution_count": 4,
   "metadata": {},
   "outputs": [],
   "source": [
    "# Splits each line into a dictionary: \n",
    "# lines是字典，每个元素line：key=lineID, value=lineObj={lineID:xxx, characterID:xxx, movieID:xxx, character:xxx, text:xxx}\n",
    "def loadLines(file, cols):\n",
    "    lines = {}\n",
    "    with open(file, 'r', encoding='iso-8859-1') as fr:\n",
    "        for line in fr:\n",
    "            values = line.split(' +++$+++ ')\n",
    "            lineObj = {col: values[i] for i, col in enumerate(cols)}\n",
    "            lines[lineObj['lineID']] = lineObj\n",
    "    return lines"
   ]
  },
  {
   "cell_type": "code",
   "execution_count": 5,
   "metadata": {},
   "outputs": [],
   "source": [
    "# Groups cols of lines from `loadLines` into conversations based on movie_conversations.txt\n",
    "# conversations是列表，每个元素convObj: {col1:xxx, col2:xxx, ..., lines: [lineObj1, lineObj2, ..., lineObjm]}\n",
    "def loadConversations(file, lines, cols):\n",
    "    conversations = []\n",
    "    with open(file, 'r', encoding='iso-8859-1') as fr:\n",
    "        for line in fr:\n",
    "            values = line.split(' +++$+++ ')\n",
    "            convObj = {col: values[i] for i, col in enumerate(cols)}\n",
    "            convObj['lines'] = [lines[lineId] for lineId in eval(convObj['utteranceIDs'])]\n",
    "            conversations.append(convObj)\n",
    "    return conversations"
   ]
  },
  {
   "cell_type": "markdown",
   "metadata": {},
   "source": [
    "> 刘尧：训练数据是每个conversation中所有sentence生成的sentece对: <前一句话, 后一句话\\>"
   ]
  },
  {
   "cell_type": "code",
   "execution_count": 6,
   "metadata": {},
   "outputs": [],
   "source": [
    "# Extracts pairs of sentences from conversations\n",
    "# qa_pair是列表，每个元素是sentence pair: [conv1_text1,conv1_text2], [1_2,1_3], [1_3,1_4], [1_4,1_5], ..., [2_1,2_2], [2_2,2_3], ...\n",
    "def extractSentencePairs(conversations):\n",
    "    qa_pair = []\n",
    "    for conv in conversations:\n",
    "        for i in range(len(conv['lines']) - 1):  # Ignore the last line (no answer for it)\n",
    "            inputLine = conv['lines'][i]['text'].strip()\n",
    "            targetLine = conv['lines'][i + 1]['text'].strip()\n",
    "            if inputLine and targetLine:\n",
    "                qa_pair.append([inputLine, targetLine])\n",
    "    return qa_pair"
   ]
  },
  {
   "cell_type": "code",
   "execution_count": 7,
   "metadata": {},
   "outputs": [],
   "source": [
    "datafile = os.path.join(corpus, 'formatted_movie_lines.txt')\n",
    "delimiter = '\\t'\n",
    "delimiter = str(codecs.decode(delimiter, 'unicode_escape'))  # 有时间好好研究这句话！！！\n",
    "\n",
    "lines = {}\n",
    "conversations = []\n",
    "MOVIE_LINES_COLS = ['lineID', 'characterID', 'movieID', 'character', 'text']\n",
    "MOVIE_CONVERSATIONS_COLS = ['character1ID', 'character2ID', 'movieID', 'utteranceIDs']"
   ]
  },
  {
   "cell_type": "code",
   "execution_count": 8,
   "metadata": {},
   "outputs": [
    {
     "name": "stdout",
     "output_type": "stream",
     "text": [
      "\n",
      "Processing corpus and loading conversations...\n"
     ]
    }
   ],
   "source": [
    "print('\\nProcessing corpus and loading conversations...')\n",
    "lines = loadLines(os.path.join(corpus, 'movie_lines.txt'), MOVIE_LINES_COLS)\n",
    "conversations = loadConversations(os.path.join(corpus, 'movie_conversations.txt'), lines, MOVIE_CONVERSATIONS_COLS)"
   ]
  },
  {
   "cell_type": "code",
   "execution_count": 9,
   "metadata": {},
   "outputs": [
    {
     "name": "stdout",
     "output_type": "stream",
     "text": [
      "\n",
      "Writing newly formatted file ...\n",
      "\n",
      "Sample lines from file: \n",
      "b\"Can we make this quick?  Roxanne Korrine and Andrew Barrett are having an incredibly horrendous public break- up on the quad.  Again.\\tWell, I thought we'd start with pronunciation, if that's okay with you.\\n\"\n",
      "b\"Well, I thought we'd start with pronunciation, if that's okay with you.\\tNot the hacking and gagging and spitting part.  Please.\\n\"\n",
      "b\"Not the hacking and gagging and spitting part.  Please.\\tOkay... then how 'bout we try out some French cuisine.  Saturday?  Night?\\n\"\n",
      "b\"You're asking me out.  That's so cute. What's your name again?\\tForget it.\\n\"\n",
      "b\"No, no, it's my fault -- we didn't have a proper introduction ---\\tCameron.\\n\"\n",
      "b\"Cameron.\\tThe thing is, Cameron -- I'm at the mercy of a particularly hideous breed of loser.  My sister.  I can't date until she does.\\n\"\n",
      "b\"The thing is, Cameron -- I'm at the mercy of a particularly hideous breed of loser.  My sister.  I can't date until she does.\\tSeems like she could get a date easy enough...\\n\"\n",
      "b'Why?\\tUnsolved mystery.  She used to be really popular when she started high school, then it was just like she got sick of it or something.\\n'\n",
      "b\"Unsolved mystery.  She used to be really popular when she started high school, then it was just like she got sick of it or something.\\tThat's a shame.\\n\"\n",
      "b'Gosh, if only we could find Kat a boyfriend...\\tLet me see what I can do.\\n'\n"
     ]
    }
   ],
   "source": [
    "print('\\nWriting newly formatted file ...')\n",
    "with open(datafile, 'w', encoding='utf8') as fw:\n",
    "    writer = csv.writer(fw, delimiter=delimiter, lineterminator='\\n')\n",
    "    for pair in extractSentencePairs(conversations):\n",
    "        writer.writerow(pair)\n",
    "print('\\nSample lines from file: ')\n",
    "printLines(datafile)"
   ]
  },
  {
   "cell_type": "markdown",
   "metadata": {},
   "source": [
    "### Load and trim data\n",
    "\n",
    "> 刘尧：把vocabulary及其附属或衍生变量以及相关method封装抽象成Class！这样既保护数据又方便使用！好好好！！！\n",
    "\n",
    "Note that we are dealing with sequences of **words**, we should create a **vocabulary**: mapping each unique word that we encounter in our dataset to an index value.\n",
    "\n",
    "For this we define a ***Vocabulary*** class, which has 5 attributes and 3 methods:\n",
    "\n",
    "- 5 attributes\n",
    "\n",
    "    - **word2index**: A mapping from each word to index\n",
    "\n",
    "    - **index2word**: A reverse mapping from index to each word\n",
    "\n",
    "    - **word2count**: A mapping from each word to its count\n",
    "\n",
    "    - num_words: A total word count\n",
    "    \n",
    "    - trimmed: If infrequently seen words are trimmed\n",
    "\n",
    "- 3 methods\n",
    "\n",
    "    - **addWord**: Adding a word to the vacabulary\n",
    "\n",
    "    - addSentence: Adding all words in a sentence\n",
    "\n",
    "    - trim: Trimming infrequently seen words"
   ]
  },
  {
   "cell_type": "code",
   "execution_count": 10,
   "metadata": {},
   "outputs": [],
   "source": [
    "# Default word tokens\n",
    "PAD_TOKEN = 0\n",
    "SOS_TOKEN = 1  # Start of sentence\n",
    "EOS_TOKEN = 2  # End of sentence \n",
    "\n",
    "MAX_LENGTH = 10"
   ]
  },
  {
   "cell_type": "code",
   "execution_count": 11,
   "metadata": {},
   "outputs": [],
   "source": [
    "class Vocabulary(object):\n",
    "    def __init__(self, name):\n",
    "        self.name = name\n",
    "        self.trimmed = False\n",
    "        self.word2index = {}  # 不默认包含PAD,SOS,EOS这仨\n",
    "        self.word2count = {}\n",
    "        self.index2word = {PAD_TOKEN: 'PAD', SOS_TOKEN: 'SOS', EOS_TOKEN: 'EOS'}\n",
    "        self.num_words = 3  # SOS, EOS, PAD\n",
    "        \n",
    "    def addWord(self, word):\n",
    "        if word not in self.word2index:\n",
    "            self.word2index[word] = self.num_words    # 添加的word，其index依次往后排\n",
    "            self.word2count[word] = 1\n",
    "            self.index2word[self.num_words] = word\n",
    "            self.num_words += 1\n",
    "        else:\n",
    "            self.word2count[word] += 1\n",
    "    \n",
    "    def addSentence(self, sentence):\n",
    "        for word in sentence.split(' '):\n",
    "            self.addWord(word)\n",
    "            \n",
    "    # Remove words below a certain count threshold\n",
    "    def trim(self, min_count):\n",
    "        if self.trimmed:\n",
    "            return\n",
    "        \n",
    "        keep_words = [k for k, v in self.word2count.items() if v >= min_count]\n",
    "        print(f'keep_words {len(keep_words)} / {len(self.word2index)} = {len(keep_words) / len(self.word2index): .4f}')\n",
    "        \n",
    "        # Reinitializa dictionaries\n",
    "        self.word2index = {}\n",
    "        self.word2count = {}\n",
    "        self.index2word = {PAD_TOKEN: 'PAD', SOS_TOKEN: 'SOS', EOS_TOKEN: 'EOS'}\n",
    "        self.num_words = 3\n",
    "        \n",
    "        for word in keep_words:\n",
    "            self.addWord(word)\n",
    "            \n",
    "        self.trimmed = True"
   ]
  },
  {
   "cell_type": "markdown",
   "metadata": {},
   "source": [
    "Some data preprocessing:\n",
    "\n",
    "- **unicodeToAscii**: Convert the Unicode strings to ASCII\n",
    "\n",
    "- **normalizeString**: Convert all letters to lowercase and trim all non-letter characters except for basic punctuation\n",
    "\n",
    "- **filterPairs**: Filter sentences with length greater than the *MAX_LENGTH* threshold\n",
    "\n",
    "> 刘尧：这些常规的预处理，最好封装成一个个function，以方便使用！可以放在**Coding通用工具脚本**里！"
   ]
  },
  {
   "cell_type": "code",
   "execution_count": 12,
   "metadata": {},
   "outputs": [],
   "source": [
    "def unicodeToAscii(s):\n",
    "    \"\"\"Turn a Unicode string to plain ASCII, thanks to https://stackoverflow.com/a/518232/2809427\"\"\"\n",
    "    return ''.join(c for c in unicodedata.normalize('NFD', s) if unicodedata.category(c) != 'Mn')"
   ]
  },
  {
   "cell_type": "code",
   "execution_count": 13,
   "metadata": {},
   "outputs": [],
   "source": [
    "def normalizeString(s):\n",
    "    \"\"\"Lowercase, trim, and remove non-letter characters\"\"\"\n",
    "    s = unicodeToAscii(s.lower().strip())\n",
    "    s = re.sub(r'([.!?])', r' \\1', s)      # 把.!?三个标点符号替换为？\n",
    "    s = re.sub(r'[^a-zA-Z.!?]+', r' ', s)  # 把字母和.!?之外的character替换为空格\n",
    "    s = re.sub(r'\\s+', r' ', s).strip()    # 把替换为空格\n",
    "    return s"
   ]
  },
  {
   "cell_type": "code",
   "execution_count": 14,
   "metadata": {},
   "outputs": [],
   "source": [
    "def readVocs(datafile, corpus_name):\n",
    "    \"\"\"Read <query, response> pairs and return a Vocabulary object\"\"\"\n",
    "    lines = open(datafile, encoding='utf8').read().strip().split('\\n')\n",
    "    pairs = [[normalizeString(s) for s in line.split('\\t')] for line in lines]\n",
    "    voc = Vocabulary(corpus_name)\n",
    "    return voc, pairs"
   ]
  },
  {
   "cell_type": "code",
   "execution_count": 15,
   "metadata": {},
   "outputs": [],
   "source": [
    "def filterPair(pair):\n",
    "    \"\"\"Return True iff both sentences in pair are under the MAX_LENGTH threshold\"\"\"\n",
    "    return len(pair[0].split(' ')) < MAX_LENGTH and len(pair[1].split(' ')) < MAX_LENGTH\n",
    "\n",
    "def filterPairs(pairs):\n",
    "    \"\"\"Filter pairs using filterPair function\"\"\"\n",
    "    return [pair for pair in pairs if filterPair(pair)]"
   ]
  },
  {
   "cell_type": "code",
   "execution_count": 16,
   "metadata": {},
   "outputs": [],
   "source": [
    "def loadPrepareData(corpus, corpus_name, datafile, save_dir):  # corpus, save_dir 在哪里使用的！？！\n",
    "    \"\"\"Using the functions above, return a populated Vocabulary object and pairs list\"\"\"\n",
    "    print('Start preparing training data ...')\n",
    "    vocabulary, pairs = readVocs(datafile, corpus_name)\n",
    "    print('Read {!s} sentence pairs'.format(len(pairs)))\n",
    "    pairs = filterPairs(pairs)\n",
    "    print('Trimmed to {!s} sentence pairs'.format(len(pairs)))\n",
    "    print('Counting words ...')\n",
    "    for pair in pairs:\n",
    "        vocabulary.addSentence(pair[0])\n",
    "        vocabulary.addSentence(pair[1])\n",
    "    print('Counted words: ', vocabulary.num_words)\n",
    "    return vocabulary, pairs"
   ]
  },
  {
   "cell_type": "code",
   "execution_count": 17,
   "metadata": {},
   "outputs": [
    {
     "name": "stdout",
     "output_type": "stream",
     "text": [
      "Start preparing training data ...\n",
      "Read 221282 sentence pairs\n",
      "Trimmed to 64271 sentence pairs\n",
      "Counting words ...\n",
      "Counted words:  18008\n"
     ]
    }
   ],
   "source": [
    "# Load/Assemble vocabulary and pairs\n",
    "save_dir = os.path.join('data', 'save')\n",
    "vocabulary, pairs = loadPrepareData(corpus, corpus_name, datafile, save_dir)"
   ]
  },
  {
   "cell_type": "code",
   "execution_count": 18,
   "metadata": {},
   "outputs": [
    {
     "name": "stdout",
     "output_type": "stream",
     "text": [
      "['there .', 'where ?']\n",
      "['you have my word . as a gentleman', 'you re sweet .']\n",
      "['hi .', 'looks like things worked out tonight huh ?']\n",
      "['you know chastity ?', 'i believe we share an art instructor']\n",
      "['have fun tonight ?', 'tons']\n",
      "['well no . . .', 'then that s all you had to say .']\n",
      "['then that s all you had to say .', 'but']\n",
      "['but', 'you always been this selfish ?']\n",
      "['do you listen to this crap ?', 'what crap ?']\n",
      "['what good stuff ?', 'the real you .']\n"
     ]
    }
   ],
   "source": [
    "for pair in pairs[:10]:\n",
    "    print(pair)"
   ]
  },
  {
   "cell_type": "markdown",
   "metadata": {},
   "source": [
    "Another tactic that is beneficial to achieving faster convergence during training is **trimming rarely used words out of our vocabulary**. \n",
    "\n",
    "Decreasing the feature space will also soften the difficulty of the function that the model must learn to approximate.\n",
    "\n",
    "We will do this as a two-stage process:\n",
    "    \n",
    "- Trim words used under *MIN_COUNT* threshold using the *Vocabulary.trim* function\n",
    "\n",
    "- Filter out pairs with trimmed words\n",
    "\n",
    "> 刘尧：事先从Vocabulary中定义并删除不常见的word，即**OOV的word**，随后从训练数据中删除这些OOV的word！ \n",
    "\n",
    "> 刘尧：疑问：模型应用时遇到OOV的word咋办？？？跟训练一样，应用前也先使用trimRareWords来处理一下！？"
   ]
  },
  {
   "cell_type": "code",
   "execution_count": 19,
   "metadata": {},
   "outputs": [],
   "source": [
    "MIN_COUNT = 3\n",
    "def trimRareWords(vocabulary, pairs, MIN_COUNT):\n",
    "    \"\"\"基于MIN_COUNT，删除vocabulary中不常见的word，并从训练/应用数据中删除带有不常见word的pairs\"\"\"\n",
    "    vocabulary.trim(MIN_COUNT)\n",
    "    \n",
    "    keep_pairs = []\n",
    "    for pair in pairs:\n",
    "        input_sentence = pair[0]\n",
    "        output_sentence = pair[1]\n",
    "        keep_input, keep_output = True, True\n",
    "        \n",
    "        # 判断pairs中2个句子中是否存在OOV的word，一旦存在，则删除当前pairs\n",
    "        for word in input_sentence.split(' '):\n",
    "            if word not in vocabulary.word2index:\n",
    "                keep_input = False\n",
    "                break\n",
    "        for word in output_sentence.split(' '):\n",
    "            if word not in vocabulary.word2index:\n",
    "                keep_output = False\n",
    "                break\n",
    "        if keep_input and keep_output:\n",
    "            keep_pairs.append(pair)\n",
    "            \n",
    "    print(f'Trimmed from {len(pairs)} pairs to {len(keep_pairs)}, {len(keep_pairs) / len(pairs): .4f} of total')\n",
    "    return keep_pairs"
   ]
  },
  {
   "cell_type": "code",
   "execution_count": 20,
   "metadata": {},
   "outputs": [
    {
     "name": "stdout",
     "output_type": "stream",
     "text": [
      "keep_words 7823 / 18005 =  0.4345\n",
      "Trimmed from 64271 pairs to 53165,  0.8272 of total\n"
     ]
    }
   ],
   "source": [
    "pairs = trimRareWords(vocabulary, pairs, MIN_COUNT)"
   ]
  },
  {
   "cell_type": "markdown",
   "metadata": {},
   "source": [
    "## 3. Prepare Data for Models\n",
    "\n",
    "Already done: preparing and massaging data into a nice vocabulary object and list of sentence pairs.\n",
    "\n",
    "Not done yet: preparing numerical torch tensors as model inputs.\n",
    "\n",
    "When batch_size=1, all we have to do is convert words in sentence pairs to their corresponding indexes from vocabulary and feed this to the models\n",
    "\n",
    "When batch_size>1, which can **speed up training and/or leverage GPU parallelization capabilities**, we must be mindful of the variation of sentence length in our batches. \n",
    "\n",
    "To accommodate sentences of different sizes in the same batch, we will make our batched input tensor of shape *(max_length, batch_size)*.\n",
    "\n",
    "If we simply convert sentences to tensors by converting words to their indexes (*indexesFromSentence*) and zero-pad, our tensor would have shape (*batch_size, max_length*). However, we need to be able to **index our batch along time(为啥子？)**, and **across all sequences in the batch**. \n",
    "\n",
    "Therefore, we transpose our input batch shape to (*max_length, batch_size*), so that indexing across the 1st dimension returns **a time step across all sentences** in the batch (*zeroPadding*).\n",
    "\n",
    "> Shape Transpose: (*batch_size, max_length*) --> (*max_length, batch_size*)\n",
    "\n",
    "![001](./image/seq2seq_batches.png)\n",
    "\n",
    "> 刘尧：这么一大段到底要讲个啥子玩意儿？！为什么一定要Transpose一下？！"
   ]
  },
  {
   "cell_type": "code",
   "execution_count": 21,
   "metadata": {},
   "outputs": [],
   "source": [
    "def sentenceToIndexes(vocabulary, sentence):\n",
    "    \"\"\"sentence向量化\"\"\"\n",
    "    return [vocabulary.word2index[word] for word in sentence.split(' ')] + [EOS_TOKEN]"
   ]
  },
  {
   "cell_type": "markdown",
   "metadata": {},
   "source": [
    "> 刘尧：疑惑：zeroPadding函数中，取seq_batch中的max_length_batch进行padding，那么不同batch的max_length_batch应该无法保证一样吧？\n",
    "\n",
    "> 刘尧：疑惑：或者本来就不必一样了，因为经Transpose之后，max_length_batch为第1维，**batch_size变成第2维，所有batch的batch_size必然一样**，所以可直接输入到network中！？\n",
    "\n",
    "> 刘尧：疑惑：以上是不是就是进行Transpose的重要原因！？！貌似与Keras或其他案例中不一样哎？"
   ]
  },
  {
   "cell_type": "code",
   "execution_count": 22,
   "metadata": {},
   "outputs": [],
   "source": [
    "def zeroPadding(seq_batch, fillvalue=PAD_TOKEN):\n",
    "    \"\"\"按seq_batch中最长的seq的长度进行zero-padding，随后进行Transpose\"\"\"\n",
    "    return list(itertools.zip_longest(*seq_batch, fillvalue=fillvalue))  # 内部隐含了Transpose操作！！"
   ]
  },
  {
   "cell_type": "code",
   "execution_count": 23,
   "metadata": {},
   "outputs": [],
   "source": [
    "def seqsToMask2D(seqs, value=PAD_TOKEN):\n",
    "    \"\"\"判断seqs中每个seq的每个token是否取值为value(是=0 否=1)，把seqs转化为0和1的二维mask\"\"\"\n",
    "    return [[int(token != value) for token in seq] for seq in seqs]"
   ]
  },
  {
   "cell_type": "markdown",
   "metadata": {},
   "source": [
    "以下三个函数 *tempVar, inputVar, outputVar* 用于转化 sentence 数据：最普通的 sentences (list of sentence) --> Tensor of shape (batch_size, max_length_batch)"
   ]
  },
  {
   "cell_type": "code",
   "execution_count": 24,
   "metadata": {},
   "outputs": [],
   "source": [
    "def sentencesToTensor(sentences, vocabulary):\n",
    "    \"\"\"对序列中每个sentence进行向量化和0-padding操作，随后整个序列转化为Tensor\"\"\"\n",
    "    indexes_batch = [sentenceToIndexes(vocabulary, sentence) for sentence in sentences]  # 同一batch中的sentence向量化\n",
    "    padList = zeroPadding(indexes_batch)    # zero-pad同一batch中的向量\n",
    "    padVar = torch.LongTensor(padList)      # torch.LongTensor: dtype=torch.int64/torch.long所对应的CPU Tensor\n",
    "    return indexes_batch, padList, padVar\n",
    "\n",
    "def inputToTensor(sentences, vocabulary):\n",
    "    \"\"\"Returns padded input sequence tensor and lengths\"\"\"\n",
    "    indexes_batch, padList, padVar = sentencesToTensor(sentences, vocabulary)\n",
    "    lengths = torch.tensor([len(indexes) for indexes in indexes_batch])\n",
    "    return padVar, lengths\n",
    "\n",
    "def targetToTensor(sentences, vocabulary):\n",
    "    \"\"\"Returns padded target sequence tensor, padding mask, and max target length\"\"\"\n",
    "    indexes_batch, padList, padVar = sentencesToTensor(sentences, vocabulary)\n",
    "    max_length = max([len(indexes) for indexes in indexes_batch])\n",
    "    mask2d = torch.ByteTensor(seqsToMask2D(padList))\n",
    "    return padVar, max_length, mask2d"
   ]
  },
  {
   "cell_type": "markdown",
   "metadata": {},
   "source": [
    "以下函数 *pairBatch2trainData* 用于转化 sentence pair 数据：pair_batch --> input sentences 和 target sentences --> 相应的 Tensor"
   ]
  },
  {
   "cell_type": "code",
   "execution_count": 25,
   "metadata": {},
   "outputs": [],
   "source": [
    "def pairBatch2trainData(vocabulary, pair_batch):\n",
    "    \"\"\"Returns all items for a given batch of pairs\"\"\"\n",
    "    pair_batch.sort(key=lambda x: len(x[0].split(' ')), reverse=True)  # 对pair_batch，按每个pair中第1个sentece的word数目倒序排序各pair\n",
    "    input_batch, target_batch = zip(*pair_batch)                       # 解压/拆解每个pair\n",
    "    inp, lengths = inputToTensor(input_batch, vocabulary)\n",
    "    target, max_length, mask = targetToTensor(target_batch, vocabulary)\n",
    "    return inp, lengths, target, max_length, mask"
   ]
  },
  {
   "cell_type": "markdown",
   "metadata": {},
   "source": [
    "> 刘尧：感悟：数据前期操作处理如向量化、padding等可在转化为Tensor之前开展，以方便操作，待所有前期操作结束后，在输入模型进行训练前，再转化为Tensor！\n",
    "\n",
    "> 刘尧：疑惑：这些前期操作，是不是在Tensor中有相应的便捷API？那么，需要先转化为Tensor？"
   ]
  },
  {
   "cell_type": "code",
   "execution_count": 26,
   "metadata": {},
   "outputs": [
    {
     "name": "stdout",
     "output_type": "stream",
     "text": [
      "input: tensor([[  25,   25,  318,  360,   33],\n",
      "        [ 197,  200,  883,  361,    6],\n",
      "        [ 117,   12,    4,    6,    2],\n",
      "        [  74,  306, 5466,    2,    0],\n",
      "        [  36, 2558,    4,    0,    0],\n",
      "        [  37,    4,    2,    0,    0],\n",
      "        [ 325,    2,    0,    0,    0],\n",
      "        [   4,    0,    0,    0,    0],\n",
      "        [   2,    0,    0,    0,    0]])\n",
      "input_lengths: tensor([9, 7, 6, 4, 3])\n",
      "target: tensor([[  76,   34,   67,  167,   25],\n",
      "        [ 115,    4,    9,    4,  200],\n",
      "        [ 325,   34,  862,  329, 1633],\n",
      "        [   4,    4,   67,   53,    4],\n",
      "        [   2,    2, 1800,  361,    4],\n",
      "        [   0,    0,   56, 1034,    4],\n",
      "        [   0,    0,  134,    4,    2],\n",
      "        [   0,    0,    4,    2,    0],\n",
      "        [   0,    0,    2,    0,    0]])\n",
      "max_target_len: 9\n",
      "mask: tensor([[1, 1, 1, 1, 1],\n",
      "        [1, 1, 1, 1, 1],\n",
      "        [1, 1, 1, 1, 1],\n",
      "        [1, 1, 1, 1, 1],\n",
      "        [1, 1, 1, 1, 1],\n",
      "        [0, 0, 1, 1, 1],\n",
      "        [0, 0, 1, 1, 1],\n",
      "        [0, 0, 1, 1, 0],\n",
      "        [0, 0, 1, 0, 0]], dtype=torch.uint8)\n"
     ]
    }
   ],
   "source": [
    "# Example for validation\n",
    "inp, lengths, target, max_length, mask = pairBatch2trainData(vocabulary, [random.choice(pairs) for _ in range(5)])\n",
    "print(\"input:\", inp)\n",
    "print(\"input_lengths:\", lengths)\n",
    "print(\"target:\", target)\n",
    "print(\"max_target_len:\", max_length)\n",
    "print(\"mask:\", mask)"
   ]
  },
  {
   "cell_type": "markdown",
   "metadata": {},
   "source": [
    "## 4. Define Models\n",
    "\n",
    "### Seq2Seq Model\n",
    "\n",
    "The goal of a seq2seq model is to take **a variable-length sequence** as an input, and return **a variable-length sequence** as an output using a fixed-sized model. By using 2 separate RNN together, we can accomplish this task. \n",
    "\n",
    "The fist RNN is an **encoder**, which encodes a variable-length input sequence to a fixed-length context vector. In theory, this context vector (the final hidden layer of the RNN) will contain semantic information about the input sequence. \n",
    "\n",
    "> **encoder**: \\[X1,X2,...,Xn\\](A variable-length sequence) --> A fixed-length context vector\n",
    "\n",
    "The second RNN is a **decoder**, which takes an input word and the context vector, and returns a guess for the next word in the sequence and a hidden state to use in the next iteration.\n",
    "\n",
    "> **decoder**: Xn(An input word) + A fixed-length context vector --> Y1(A guess for the next word) + A hidden state\n",
    "\n",
    "![001](./image/seq2seq_ts.png)"
   ]
  },
  {
   "cell_type": "markdown",
   "metadata": {},
   "source": [
    "### Encoder\n",
    "\n",
    "The encoder RNN iterates through the input sequence one token ***Xi*** (e.g. word) at a time, at each time step ***i*** outputting an \"output\" vector ***Yi*** and a \"hidden state\" vector ***Si***. The hidden state vector ***Si*** is then passed to the next time step ***i+1***, while the output vector ***Yi*** is recorded.\n",
    "\n",
    "> At each time step ***i***: ***Xi*** --> ***Yi*** (recorded) + ***Si*** (passed to step ***i+1***)\n",
    "\n",
    "The encoder transforms the context it saw at each point in the sequence into **a set of points in a high-dimensional space**, which the decoder will use to generate a meaningful output for the given task.\n",
    "\n",
    "The heart of encoder is a multi-layered GRU. We will use a bidirectional variant of the GRU, meaning that there are essentially 2 independent RNNs: one is fed the input sequence in normal sequential order, and the other is fed in reverse order.\n",
    "\n",
    "The outputs of each network are summed at each time step ***i***. Using a bidirectional GRU will give us the advantage of encoding both past and future context.\n",
    "\n",
    "Bidirectional RNN:\n",
    "\n",
    "![](./image/RNN-bidirectional.png)\n",
    "\n",
    "Note that:\n",
    "\n",
    "- An ***embedding layer*** is used to encode our word indices in an arbitrarily sized feature space. For our models, this layer will map each word to a feature space of size *hidden_size*.\n",
    "\n",
    "- If passing a padded batch of sequences to an RNN module, we must **pack and unpack padding** around the RNN pass using *torch.nn.utils.rnn.pack_padded_sequence* and *torch.nn.utils.rnn.pad_packed_sequence* respectively."
   ]
  },
  {
   "cell_type": "markdown",
   "metadata": {},
   "source": [
    "**Computation Graph:**\n",
    "\n",
    "- Convert word indexes to embeddings\n",
    "\n",
    "- Pack padded batch of sequences for RNN module\n",
    "\n",
    "- Forward pass through GRU\n",
    "\n",
    "- Unpack padding\n",
    "\n",
    "- Sum bidirectional GRU outputs\n",
    "\n",
    "- Return output and final hidden state\n",
    "\n",
    "**Inputs:**\n",
    "\n",
    "- *input_seq*: Batch of input sentences; shape=***(max_length, batch_size)***\n",
    "\n",
    "- *input_lengths*: List of sentence lengths corresponding to each sentence in the batch; shape=***(batch_size)***\n",
    "\n",
    "- *hidden*: Hidden state; shape=***(n_layers x num_directions, batch_size, hidden_size)***\n",
    "\n",
    "**Outputs:**\n",
    "\n",
    "- *outputs*: Output features from the last hidden layer of the GRU (sum of bidirectional outputs); shape=***(max_length, batch_size, hidden_size)***\n",
    "\n",
    "- *hidden*: Updated hidden state from GRU; shape=***(n_layers x num_directions, batch_size, hidden_size)*** (same shape with *hidden* above in Inputs)"
   ]
  },
  {
   "cell_type": "markdown",
   "metadata": {},
   "source": [
    "**几个注意点：**\n",
    "\n",
    "- embedding 位于 EncoderRNN 之外额外处理\n",
    "\n",
    "- nn.GRUCell 和 nn.GRU 有区别，前者是多个 GRUCell 组合在一起，后者才是 Encoder 中展示的那样，多个 GRU 串联在一起，可设置单向或双向，是 Encoder 的核心和主体\n",
    "\n",
    "- pack_padded_sequence 和 pad_packed_sequence 这2个函数有意思，要好好研究一下到底在干啥子\n",
    "\n",
    "- 输入中的 hidden 是所谓的 ***S0*** ? Output 是 ***a1,a2,...,ai*** !?! 那输出中的 hidden 是啥？"
   ]
  },
  {
   "cell_type": "code",
   "execution_count": 27,
   "metadata": {},
   "outputs": [],
   "source": [
    "class EncoderRNN(nn.Module):\n",
    "    def __init__(self, hidden_size, embedding, n_layers=1, dropout=0):\n",
    "        super(EncoderRNN, self).__init__()\n",
    "        self.n_layers = n_layers\n",
    "        self.hidden_size = hidden_size\n",
    "        self.embedding = embedding\n",
    "        \n",
    "        # Initialize GRU  注意nn.GRU与nn.GRUCell的区别！\n",
    "        # input_size和hidden_size都设置为hidden_size，因为input size is a word embedding with number of features==hidden_size\n",
    "        self.gru = nn.GRU(hidden_size, hidden_size, n_layers, dropout=(0 if n_layers == 1 else dropout), bidirectional=True)\n",
    "        \n",
    "    def forward(self, input_seq, input_lengths, hidden=None):\n",
    "        embedded = self.embedding(input_seq)                                           # Convert word indexes to embeddings\n",
    "        packed = torch.nn.utils.rnn.pack_padded_sequence(embedded, input_lengths)      # Pack padded batch of sequences for RNN module\n",
    "        outputs, hidden = self.gru(packed, hidden)                                     # Forward pass through GRU\n",
    "        outputs, _ = torch.nn.utils.rnn.pad_packed_sequence(outputs)                   # Unpack padding\n",
    "        outputs = outputs[:, :, :self.hidden_size] + outputs[:, :, self.hidden_size:]  # Sum bidirectional GRU outpus   此时应该是对hidden进行sum吧或拼接吧？\n",
    "        return outputs, hidden"
   ]
  },
  {
   "cell_type": "markdown",
   "metadata": {},
   "source": [
    "**Encoder** (来自Coursera)\n",
    "\n",
    "已知：a<0\\>,  a<Tx+1\\>, x<1\\>, x<2\\>, ..., x<tx\\>, ...x<Tx\\> 即输入sequence\n",
    "    \n",
    "流程：x<tx\\> + a<tx-1\\> --(BiLSTM/BiGRU)--> a<tx\\>, y^<tx\\>\n",
    "    \n",
    "结果：a<tx\\> = (a<tx\\>->, a<tx\\><-) 即原始单词x<tx\\>激活值，用于计算Attention和c<ty\\>"
   ]
  },
  {
   "cell_type": "markdown",
   "metadata": {},
   "source": [
    "### Decoder\n",
    "\n",
    "The decoder RNN generates the response sentence in a **token-by-token** fashion. It uses the encoder's context vectors, and internal hidden states to generate the next word in the sequence. It continues generating words until it outputs and EOS_TOKEN.\n",
    "\n",
    "> Token-by-token: context vectors + hidden states --> next word until EOS_TOKEN\n",
    "\n",
    "### Attention Layer\n",
    "\n",
    "A common problem with a vanilla seq2seq decoder is that if we **rely solely on the context vector** to encode the entire input sequence's meaning, it is likely that we will have information loss. This is especially the case when dealing with long input sequences, greatly limiting the capability of our decoder.\n",
    "\n",
    "Attention mechanism can combat this, which allows the decoder to **pay attention to certain parts of the input sequence**, rather than using the entire fixed context at every step.\n",
    "\n",
    "At a high level, attention is calculated using the decoder's current hidden state and the encoder's outputs (图片中是decoder's inputs ?). The output attention weights have the same shape as the input sequence, allowing us to multiply them by the encoder outputs, giving us **a weighted sum which indicates the parts of encoder output to pay attention to**.\n",
    "\n",
    "> decoder's current hidden state + decoder's inputs --> attention weights\n",
    "\n",
    "> attention weights x encoder outputs --> A weighted sum (attended encoder outputs)\n",
    "\n",
    "![](./image/attn2.png)\n",
    "\n",
    "An improvement is creating \"Global attention\". The key difference is that with \"Global attention\", we consider **all of the encoder's hidden states**, as opposed to \"Local attention\", which only considers **the encoder's hidden state from the current time step**. Another difference is that with \"Global attention\", we calculate attention weights, or energies, using the hidden state of the decoder from the current time step only. ...\n",
    "\n",
    "Overall, the \"Global attention mechanism\" can be summarized by the following figure. Note that we will implement the \"Attention Layer\" as a separate *nn.Module* called *Attn*. The output of this module is a softmax normalized weights tensor of shape *(batch_size, 1, max_length)*.\n",
    "\n",
    "![](./image/global_attn.png)"
   ]
  },
  {
   "cell_type": "code",
   "execution_count": 28,
   "metadata": {},
   "outputs": [],
   "source": [
    "class Attn(nn.Module):\n",
    "    def __init__(self, method, hidden_size):\n",
    "        super(Attn, self).__init__()\n",
    "        if method not in ['dot', 'general', 'concat']:\n",
    "            raise ValueError(method, 'is not an appropriate attention method.')\n",
    "        self.method = method\n",
    "        self.hidden_size = hidden_size\n",
    "        if self.method == 'general':\n",
    "            self.attn_nn = nn.Linear(self.hidden_size, hidden_size)      # 小神经网络中的Dense，softmax在哪？\n",
    "        elif self.method == 'concat':\n",
    "            self.attn_nn = nn.Linear(self.hidden_size * 2, hidden_size)\n",
    "            self.v = nn.Parameter(torch.FloatTensor(hidden_size))\n",
    "    \n",
    "    def forward(self, hidden, encoder_outputs):\n",
    "        if self.method == 'dot':\n",
    "            attn_energies = torch.sum(hidden * encoder_outputs, dim=2)\n",
    "        elif self.method == 'general':\n",
    "            energy = self.attn_nn(encoder_outputs)\n",
    "            attn_energies = torch.sum(hidden * energy, dim=2)\n",
    "        elif self.method == 'concat':\n",
    "            # hidden是Decoder中的s<ty-1>  encoder_outputs是Encoder中的a<tx>  energy是alpha<ty,tx>\n",
    "            cated = torch.cat((hidden.expand(encoder_outputs.size(0), -1, -1), encoder_outputs), 2)\n",
    "            energy = self.attn_nn(cated).tanh()                # 流程1：通过小神经网络，softmax在哪？换成了tanh？？？\n",
    "            attn_energies = torch.sum(self.v * energy, dim=2)  # 流程2：alpha与a加权求和  ??? self.v是个啥玩意？\n",
    "        attn_energies = attn_energies.t()                      # Transpose max_length and batch_size dimensions\n",
    "        return F.softmax(attn_energies, dim=1).unsqueeze(1)    # The softmax normalized probability scores   这个softmax是小神经网络里的还是别的？？"
   ]
  },
  {
   "cell_type": "markdown",
   "metadata": {},
   "source": [
    "**Attention** (来自coursera) 与coursera中学的有一些差别！\n",
    "\n",
    "已知：s<0\\>\n",
    "\n",
    "流程：s<ty-1\\> + a<tx\\> --(Dense)--> e<ty,tx\\>  --(Softmax)--> alpha<ty,tx\\> (即Attention)\n",
    "    \n",
    "流程：alpha<ty,tx\\> + a<tx\\> --(加权之和)-->  c<ty\\>\n",
    "\n",
    "结果：c<ty\\> 即Context，用于Decoder中输入给LSTM\n",
    "\n",
    "注意：a<tx\\>两次使用：与s<ty-1\\>拼接，与alpha<ty,tx\\>加权求和\n",
    "\n",
    "注意：c<ty\\>是承上启下，承Encoder的结果，启Decoder的输入"
   ]
  },
  {
   "cell_type": "markdown",
   "metadata": {},
   "source": [
    "### AttentionDecoder\n",
    "\n",
    "For the decoder, we will manually feed our batch **one time step at a time**. This means that our embedded word tensor and GRU output will both have shape ***(1, batch_size, hidden_size)***.\n",
    "\n",
    "**Computational Graph:**\n",
    "\n",
    "- Get embedding of current input word\n",
    "\n",
    "- Forward through unidirectional GRU\n",
    "\n",
    "- Calculate attention weights from the current GRU output from the step above\n",
    "\n",
    "- Multiply attention weights to encoder outputs to get new \"weighted sum\" context vector\n",
    "\n",
    "- Concatenate weighted context vector and GRU output using Luong eq. 5\n",
    "\n",
    "- Predict next word using Luong eq. 6 (without softmax)\n",
    "\n",
    "- Return output and final hidden state\n",
    "\n",
    "**Inputs:**\n",
    "\n",
    "- *input_step*: **one time step (one word)** of input sequence batch; shape=***(1, batch_size)***\n",
    "\n",
    "- *last_hidden*: final hidden layer of GRU; shape=*(n_layers x num_directions, batch_size, hidden_size)*\n",
    "\n",
    "- *encoder_outputs*: encoder model's output; shape=*(max_length, batch_size, hidden_size)*\n",
    "\n",
    "**Outputs:**\n",
    "\n",
    "- *output*: softmax normalized tensor giving probabilities of each word being the correct next word in the decoded sequence; shape=*(batch_size, vocabulary.num_words)*\n",
    "\n",
    "- *hidden*: final hidden state of GRU; shape=*(n_layers x num_directions, batch_size, hidden_size)*"
   ]
  },
  {
   "cell_type": "code",
   "execution_count": 29,
   "metadata": {},
   "outputs": [],
   "source": [
    "class LuongAttnDecoderRNN(nn.Module):\n",
    "    def __init__(self, attn_method, embedding, hidden_size, output_size, n_layers=1, dropout=0.1):\n",
    "        super(LuongAttnDecoderRNN, self).__init__()\n",
    "        \n",
    "        # Keep for reference\n",
    "        self.attn_model = attn_model\n",
    "        self.hidden_size = hidden_size\n",
    "        self.output_size = output_size\n",
    "        self.n_layers = n_layers\n",
    "        self.dropout = dropout\n",
    "        \n",
    "        # Define layers\n",
    "        self.embedding = embedding\n",
    "        self.embedding_dropout = nn.Dropout(dropout)          # 干啥子用的？\n",
    "        self.gru = nn.GRU(hidden_size, hidden_size, n_layers, dropout=(0 if n_layers == 1 else dropout))\n",
    "        self.attn = Attn(attn_method, hidden_size)            # \"Attention Layer\" Attn 使用在此！\n",
    "        self.concat = nn.Linear(hidden_size * 2, hidden_size)\n",
    "        self.out = nn.Linear(hidden_size, output_size)\n",
    "        \n",
    "    # Note: we run this one step (word) at a time\n",
    "    def forward(self, input_step, last_hidden, encoder_outputs):\n",
    "        # Get embedding of current input word\n",
    "        embedded = self.embedding(input_step)\n",
    "        embedded = self.embedding_dropout(embedded)\n",
    "        \n",
    "        rnn_output, hidden = self.gru(embedded, last_hidden)         # Forward through unidirectional GRU\n",
    "        attn_weights = self.attn(rnn_output, encoder_outputs)        # Calculate attention weights from the current GRU output\n",
    "        \n",
    "        context = attn_weights.bmm(encoder_outputs.transpose(0, 1))  # Multiply attention weights to encoder outputs\n",
    "        \n",
    "        # Concatenate weighted context vector and GRU output using Luong eq. 5\n",
    "        concat_input = torch.cat((rnn_output.squeeze(0), context.squeeze(0)), 1)\n",
    "        concat_output = torch.tanh(self.concat(concat_input))\n",
    "        \n",
    "        # Predict next word using Luong eq. 6\n",
    "        output = self.out(concat_output)\n",
    "        output = F.softmax(output, dim=1)\n",
    "        return output, hidden"
   ]
  },
  {
   "cell_type": "markdown",
   "metadata": {},
   "source": [
    "## 5. Define Training Procedure\n",
    "\n",
    "### Masked loss"
   ]
  },
  {
   "cell_type": "code",
   "execution_count": null,
   "metadata": {},
   "outputs": [],
   "source": []
  },
  {
   "cell_type": "code",
   "execution_count": null,
   "metadata": {},
   "outputs": [],
   "source": []
  },
  {
   "cell_type": "markdown",
   "metadata": {},
   "source": [
    "### Single training iteration"
   ]
  },
  {
   "cell_type": "code",
   "execution_count": null,
   "metadata": {},
   "outputs": [],
   "source": []
  },
  {
   "cell_type": "code",
   "execution_count": null,
   "metadata": {},
   "outputs": [],
   "source": []
  },
  {
   "cell_type": "markdown",
   "metadata": {},
   "source": [
    "### Training iteration"
   ]
  },
  {
   "cell_type": "code",
   "execution_count": null,
   "metadata": {},
   "outputs": [],
   "source": []
  },
  {
   "cell_type": "code",
   "execution_count": null,
   "metadata": {},
   "outputs": [],
   "source": []
  },
  {
   "cell_type": "markdown",
   "metadata": {},
   "source": [
    "## 6. Define Evaluation\n",
    "\n",
    "### Greedy decoding"
   ]
  },
  {
   "cell_type": "code",
   "execution_count": null,
   "metadata": {},
   "outputs": [],
   "source": []
  },
  {
   "cell_type": "code",
   "execution_count": null,
   "metadata": {},
   "outputs": [],
   "source": []
  },
  {
   "cell_type": "markdown",
   "metadata": {},
   "source": [
    "### Evaluate my text"
   ]
  },
  {
   "cell_type": "code",
   "execution_count": null,
   "metadata": {},
   "outputs": [],
   "source": []
  },
  {
   "cell_type": "code",
   "execution_count": null,
   "metadata": {},
   "outputs": [],
   "source": []
  },
  {
   "cell_type": "markdown",
   "metadata": {},
   "source": [
    "## 7. Run Model\n",
    "\n",
    "### Run Training"
   ]
  },
  {
   "cell_type": "code",
   "execution_count": null,
   "metadata": {},
   "outputs": [],
   "source": []
  },
  {
   "cell_type": "code",
   "execution_count": null,
   "metadata": {},
   "outputs": [],
   "source": []
  },
  {
   "cell_type": "markdown",
   "metadata": {},
   "source": [
    "### Run Evaluation"
   ]
  },
  {
   "cell_type": "code",
   "execution_count": null,
   "metadata": {},
   "outputs": [],
   "source": []
  },
  {
   "cell_type": "code",
   "execution_count": null,
   "metadata": {},
   "outputs": [],
   "source": []
  },
  {
   "cell_type": "markdown",
   "metadata": {},
   "source": [
    "## 8. Conclusion"
   ]
  },
  {
   "cell_type": "code",
   "execution_count": null,
   "metadata": {},
   "outputs": [],
   "source": []
  }
 ],
 "metadata": {
  "kernelspec": {
   "display_name": "Python 3",
   "language": "python",
   "name": "python3"
  },
  "language_info": {
   "codemirror_mode": {
    "name": "ipython",
    "version": 3
   },
   "file_extension": ".py",
   "mimetype": "text/x-python",
   "name": "python",
   "nbconvert_exporter": "python",
   "pygments_lexer": "ipython3",
   "version": "3.6.5"
  }
 },
 "nbformat": 4,
 "nbformat_minor": 2
}
